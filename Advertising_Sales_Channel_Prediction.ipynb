{
 "cells": [
  {
   "cell_type": "markdown",
   "id": "502c8466",
   "metadata": {},
   "source": [
    "# Importing realated modules"
   ]
  },
  {
   "cell_type": "code",
   "execution_count": 1,
   "id": "92da10b6",
   "metadata": {},
   "outputs": [],
   "source": [
    "import numpy as np\n",
    "import pandas as pd\n",
    "import matplotlib.pyplot as plt\n",
    "import seaborn as sns\n",
    "import warnings \n",
    "warnings.filterwarnings('ignore')"
   ]
  },
  {
   "cell_type": "markdown",
   "id": "a596a6f7",
   "metadata": {},
   "source": [
    "# Loading the data"
   ]
  },
  {
   "cell_type": "code",
   "execution_count": 2,
   "id": "c68aad2c",
   "metadata": {},
   "outputs": [],
   "source": [
    "channel_ds=pd.read_csv(\"Advertising_Sales_Channel_data\")"
   ]
  },
  {
   "cell_type": "code",
   "execution_count": 3,
   "id": "a146b48b",
   "metadata": {},
   "outputs": [
    {
     "data": {
      "text/html": [
       "<div>\n",
       "<style scoped>\n",
       "    .dataframe tbody tr th:only-of-type {\n",
       "        vertical-align: middle;\n",
       "    }\n",
       "\n",
       "    .dataframe tbody tr th {\n",
       "        vertical-align: top;\n",
       "    }\n",
       "\n",
       "    .dataframe thead th {\n",
       "        text-align: right;\n",
       "    }\n",
       "</style>\n",
       "<table border=\"1\" class=\"dataframe\">\n",
       "  <thead>\n",
       "    <tr style=\"text-align: right;\">\n",
       "      <th></th>\n",
       "      <th>S.no</th>\n",
       "      <th>TV</th>\n",
       "      <th>radio</th>\n",
       "      <th>newspaper</th>\n",
       "      <th>sales</th>\n",
       "    </tr>\n",
       "  </thead>\n",
       "  <tbody>\n",
       "    <tr>\n",
       "      <th>0</th>\n",
       "      <td>1</td>\n",
       "      <td>230.1</td>\n",
       "      <td>37.8</td>\n",
       "      <td>69.2</td>\n",
       "      <td>22.1</td>\n",
       "    </tr>\n",
       "    <tr>\n",
       "      <th>1</th>\n",
       "      <td>2</td>\n",
       "      <td>44.5</td>\n",
       "      <td>39.3</td>\n",
       "      <td>45.1</td>\n",
       "      <td>10.4</td>\n",
       "    </tr>\n",
       "    <tr>\n",
       "      <th>2</th>\n",
       "      <td>3</td>\n",
       "      <td>17.2</td>\n",
       "      <td>45.9</td>\n",
       "      <td>69.3</td>\n",
       "      <td>9.3</td>\n",
       "    </tr>\n",
       "    <tr>\n",
       "      <th>3</th>\n",
       "      <td>4</td>\n",
       "      <td>151.5</td>\n",
       "      <td>41.3</td>\n",
       "      <td>58.5</td>\n",
       "      <td>18.5</td>\n",
       "    </tr>\n",
       "    <tr>\n",
       "      <th>4</th>\n",
       "      <td>5</td>\n",
       "      <td>180.8</td>\n",
       "      <td>10.8</td>\n",
       "      <td>58.4</td>\n",
       "      <td>12.9</td>\n",
       "    </tr>\n",
       "    <tr>\n",
       "      <th>...</th>\n",
       "      <td>...</td>\n",
       "      <td>...</td>\n",
       "      <td>...</td>\n",
       "      <td>...</td>\n",
       "      <td>...</td>\n",
       "    </tr>\n",
       "    <tr>\n",
       "      <th>195</th>\n",
       "      <td>196</td>\n",
       "      <td>38.2</td>\n",
       "      <td>3.7</td>\n",
       "      <td>13.8</td>\n",
       "      <td>7.6</td>\n",
       "    </tr>\n",
       "    <tr>\n",
       "      <th>196</th>\n",
       "      <td>197</td>\n",
       "      <td>94.2</td>\n",
       "      <td>4.9</td>\n",
       "      <td>8.1</td>\n",
       "      <td>9.7</td>\n",
       "    </tr>\n",
       "    <tr>\n",
       "      <th>197</th>\n",
       "      <td>198</td>\n",
       "      <td>177.0</td>\n",
       "      <td>9.3</td>\n",
       "      <td>6.4</td>\n",
       "      <td>12.8</td>\n",
       "    </tr>\n",
       "    <tr>\n",
       "      <th>198</th>\n",
       "      <td>199</td>\n",
       "      <td>283.6</td>\n",
       "      <td>42.0</td>\n",
       "      <td>66.2</td>\n",
       "      <td>25.5</td>\n",
       "    </tr>\n",
       "    <tr>\n",
       "      <th>199</th>\n",
       "      <td>200</td>\n",
       "      <td>232.1</td>\n",
       "      <td>8.6</td>\n",
       "      <td>8.7</td>\n",
       "      <td>13.4</td>\n",
       "    </tr>\n",
       "  </tbody>\n",
       "</table>\n",
       "<p>200 rows × 5 columns</p>\n",
       "</div>"
      ],
      "text/plain": [
       "     S.no     TV  radio  newspaper  sales\n",
       "0       1  230.1   37.8       69.2   22.1\n",
       "1       2   44.5   39.3       45.1   10.4\n",
       "2       3   17.2   45.9       69.3    9.3\n",
       "3       4  151.5   41.3       58.5   18.5\n",
       "4       5  180.8   10.8       58.4   12.9\n",
       "..    ...    ...    ...        ...    ...\n",
       "195   196   38.2    3.7       13.8    7.6\n",
       "196   197   94.2    4.9        8.1    9.7\n",
       "197   198  177.0    9.3        6.4   12.8\n",
       "198   199  283.6   42.0       66.2   25.5\n",
       "199   200  232.1    8.6        8.7   13.4\n",
       "\n",
       "[200 rows x 5 columns]"
      ]
     },
     "execution_count": 3,
     "metadata": {},
     "output_type": "execute_result"
    }
   ],
   "source": [
    "channel_ds"
   ]
  },
  {
   "cell_type": "code",
   "execution_count": 4,
   "id": "ba60b8ca",
   "metadata": {},
   "outputs": [
    {
     "data": {
      "text/html": [
       "<div>\n",
       "<style scoped>\n",
       "    .dataframe tbody tr th:only-of-type {\n",
       "        vertical-align: middle;\n",
       "    }\n",
       "\n",
       "    .dataframe tbody tr th {\n",
       "        vertical-align: top;\n",
       "    }\n",
       "\n",
       "    .dataframe thead th {\n",
       "        text-align: right;\n",
       "    }\n",
       "</style>\n",
       "<table border=\"1\" class=\"dataframe\">\n",
       "  <thead>\n",
       "    <tr style=\"text-align: right;\">\n",
       "      <th></th>\n",
       "      <th>S.no</th>\n",
       "      <th>TV</th>\n",
       "      <th>radio</th>\n",
       "      <th>newspaper</th>\n",
       "      <th>sales</th>\n",
       "    </tr>\n",
       "  </thead>\n",
       "  <tbody>\n",
       "    <tr>\n",
       "      <th>0</th>\n",
       "      <td>1</td>\n",
       "      <td>230.1</td>\n",
       "      <td>37.8</td>\n",
       "      <td>69.2</td>\n",
       "      <td>22.1</td>\n",
       "    </tr>\n",
       "    <tr>\n",
       "      <th>1</th>\n",
       "      <td>2</td>\n",
       "      <td>44.5</td>\n",
       "      <td>39.3</td>\n",
       "      <td>45.1</td>\n",
       "      <td>10.4</td>\n",
       "    </tr>\n",
       "    <tr>\n",
       "      <th>2</th>\n",
       "      <td>3</td>\n",
       "      <td>17.2</td>\n",
       "      <td>45.9</td>\n",
       "      <td>69.3</td>\n",
       "      <td>9.3</td>\n",
       "    </tr>\n",
       "    <tr>\n",
       "      <th>3</th>\n",
       "      <td>4</td>\n",
       "      <td>151.5</td>\n",
       "      <td>41.3</td>\n",
       "      <td>58.5</td>\n",
       "      <td>18.5</td>\n",
       "    </tr>\n",
       "    <tr>\n",
       "      <th>4</th>\n",
       "      <td>5</td>\n",
       "      <td>180.8</td>\n",
       "      <td>10.8</td>\n",
       "      <td>58.4</td>\n",
       "      <td>12.9</td>\n",
       "    </tr>\n",
       "  </tbody>\n",
       "</table>\n",
       "</div>"
      ],
      "text/plain": [
       "   S.no     TV  radio  newspaper  sales\n",
       "0     1  230.1   37.8       69.2   22.1\n",
       "1     2   44.5   39.3       45.1   10.4\n",
       "2     3   17.2   45.9       69.3    9.3\n",
       "3     4  151.5   41.3       58.5   18.5\n",
       "4     5  180.8   10.8       58.4   12.9"
      ]
     },
     "execution_count": 4,
     "metadata": {},
     "output_type": "execute_result"
    }
   ],
   "source": [
    "channel_ds.head()"
   ]
  },
  {
   "cell_type": "code",
   "execution_count": 5,
   "id": "aef27a50",
   "metadata": {},
   "outputs": [
    {
     "data": {
      "text/html": [
       "<div>\n",
       "<style scoped>\n",
       "    .dataframe tbody tr th:only-of-type {\n",
       "        vertical-align: middle;\n",
       "    }\n",
       "\n",
       "    .dataframe tbody tr th {\n",
       "        vertical-align: top;\n",
       "    }\n",
       "\n",
       "    .dataframe thead th {\n",
       "        text-align: right;\n",
       "    }\n",
       "</style>\n",
       "<table border=\"1\" class=\"dataframe\">\n",
       "  <thead>\n",
       "    <tr style=\"text-align: right;\">\n",
       "      <th></th>\n",
       "      <th>S.no</th>\n",
       "      <th>TV</th>\n",
       "      <th>radio</th>\n",
       "      <th>newspaper</th>\n",
       "      <th>sales</th>\n",
       "    </tr>\n",
       "  </thead>\n",
       "  <tbody>\n",
       "    <tr>\n",
       "      <th>195</th>\n",
       "      <td>196</td>\n",
       "      <td>38.2</td>\n",
       "      <td>3.7</td>\n",
       "      <td>13.8</td>\n",
       "      <td>7.6</td>\n",
       "    </tr>\n",
       "    <tr>\n",
       "      <th>196</th>\n",
       "      <td>197</td>\n",
       "      <td>94.2</td>\n",
       "      <td>4.9</td>\n",
       "      <td>8.1</td>\n",
       "      <td>9.7</td>\n",
       "    </tr>\n",
       "    <tr>\n",
       "      <th>197</th>\n",
       "      <td>198</td>\n",
       "      <td>177.0</td>\n",
       "      <td>9.3</td>\n",
       "      <td>6.4</td>\n",
       "      <td>12.8</td>\n",
       "    </tr>\n",
       "    <tr>\n",
       "      <th>198</th>\n",
       "      <td>199</td>\n",
       "      <td>283.6</td>\n",
       "      <td>42.0</td>\n",
       "      <td>66.2</td>\n",
       "      <td>25.5</td>\n",
       "    </tr>\n",
       "    <tr>\n",
       "      <th>199</th>\n",
       "      <td>200</td>\n",
       "      <td>232.1</td>\n",
       "      <td>8.6</td>\n",
       "      <td>8.7</td>\n",
       "      <td>13.4</td>\n",
       "    </tr>\n",
       "  </tbody>\n",
       "</table>\n",
       "</div>"
      ],
      "text/plain": [
       "     S.no     TV  radio  newspaper  sales\n",
       "195   196   38.2    3.7       13.8    7.6\n",
       "196   197   94.2    4.9        8.1    9.7\n",
       "197   198  177.0    9.3        6.4   12.8\n",
       "198   199  283.6   42.0       66.2   25.5\n",
       "199   200  232.1    8.6        8.7   13.4"
      ]
     },
     "execution_count": 5,
     "metadata": {},
     "output_type": "execute_result"
    }
   ],
   "source": [
    "channel_ds.tail()"
   ]
  },
  {
   "cell_type": "code",
   "execution_count": 6,
   "id": "18f201ea",
   "metadata": {},
   "outputs": [
    {
     "data": {
      "text/html": [
       "<div>\n",
       "<style scoped>\n",
       "    .dataframe tbody tr th:only-of-type {\n",
       "        vertical-align: middle;\n",
       "    }\n",
       "\n",
       "    .dataframe tbody tr th {\n",
       "        vertical-align: top;\n",
       "    }\n",
       "\n",
       "    .dataframe thead th {\n",
       "        text-align: right;\n",
       "    }\n",
       "</style>\n",
       "<table border=\"1\" class=\"dataframe\">\n",
       "  <thead>\n",
       "    <tr style=\"text-align: right;\">\n",
       "      <th></th>\n",
       "      <th>S.no</th>\n",
       "      <th>TV</th>\n",
       "      <th>radio</th>\n",
       "      <th>newspaper</th>\n",
       "      <th>sales</th>\n",
       "    </tr>\n",
       "  </thead>\n",
       "  <tbody>\n",
       "    <tr>\n",
       "      <th>137</th>\n",
       "      <td>138</td>\n",
       "      <td>273.7</td>\n",
       "      <td>28.9</td>\n",
       "      <td>59.7</td>\n",
       "      <td>20.8</td>\n",
       "    </tr>\n",
       "    <tr>\n",
       "      <th>10</th>\n",
       "      <td>11</td>\n",
       "      <td>66.1</td>\n",
       "      <td>5.8</td>\n",
       "      <td>24.2</td>\n",
       "      <td>8.6</td>\n",
       "    </tr>\n",
       "    <tr>\n",
       "      <th>140</th>\n",
       "      <td>141</td>\n",
       "      <td>73.4</td>\n",
       "      <td>17.0</td>\n",
       "      <td>12.9</td>\n",
       "      <td>10.9</td>\n",
       "    </tr>\n",
       "    <tr>\n",
       "      <th>151</th>\n",
       "      <td>152</td>\n",
       "      <td>121.0</td>\n",
       "      <td>8.4</td>\n",
       "      <td>48.7</td>\n",
       "      <td>11.6</td>\n",
       "    </tr>\n",
       "    <tr>\n",
       "      <th>6</th>\n",
       "      <td>7</td>\n",
       "      <td>57.5</td>\n",
       "      <td>32.8</td>\n",
       "      <td>23.5</td>\n",
       "      <td>11.8</td>\n",
       "    </tr>\n",
       "  </tbody>\n",
       "</table>\n",
       "</div>"
      ],
      "text/plain": [
       "     S.no     TV  radio  newspaper  sales\n",
       "137   138  273.7   28.9       59.7   20.8\n",
       "10     11   66.1    5.8       24.2    8.6\n",
       "140   141   73.4   17.0       12.9   10.9\n",
       "151   152  121.0    8.4       48.7   11.6\n",
       "6       7   57.5   32.8       23.5   11.8"
      ]
     },
     "execution_count": 6,
     "metadata": {},
     "output_type": "execute_result"
    }
   ],
   "source": [
    "channel_ds.sample(5)"
   ]
  },
  {
   "cell_type": "code",
   "execution_count": 7,
   "id": "fdf96bc6",
   "metadata": {},
   "outputs": [
    {
     "data": {
      "text/plain": [
       "(200, 5)"
      ]
     },
     "execution_count": 7,
     "metadata": {},
     "output_type": "execute_result"
    }
   ],
   "source": [
    "channel_ds.shape"
   ]
  },
  {
   "cell_type": "code",
   "execution_count": 8,
   "id": "cfd53e19",
   "metadata": {},
   "outputs": [
    {
     "data": {
      "text/plain": [
       "Index(['S.no', 'TV', 'radio', 'newspaper', 'sales'], dtype='object')"
      ]
     },
     "execution_count": 8,
     "metadata": {},
     "output_type": "execute_result"
    }
   ],
   "source": [
    "channel_ds.keys()"
   ]
  },
  {
   "cell_type": "code",
   "execution_count": 9,
   "id": "48c18833",
   "metadata": {},
   "outputs": [
    {
     "data": {
      "text/plain": [
       "array([[  1. , 230.1,  37.8,  69.2,  22.1],\n",
       "       [  2. ,  44.5,  39.3,  45.1,  10.4],\n",
       "       [  3. ,  17.2,  45.9,  69.3,   9.3],\n",
       "       [  4. , 151.5,  41.3,  58.5,  18.5],\n",
       "       [  5. , 180.8,  10.8,  58.4,  12.9],\n",
       "       [  6. ,   8.7,  48.9,  75. ,   7.2],\n",
       "       [  7. ,  57.5,  32.8,  23.5,  11.8],\n",
       "       [  8. , 120.2,  19.6,  11.6,  13.2],\n",
       "       [  9. ,   8.6,   2.1,   1. ,   4.8],\n",
       "       [ 10. , 199.8,   2.6,  21.2,  10.6],\n",
       "       [ 11. ,  66.1,   5.8,  24.2,   8.6],\n",
       "       [ 12. , 214.7,  24. ,   4. ,  17.4],\n",
       "       [ 13. ,  23.8,  35.1,  65.9,   9.2],\n",
       "       [ 14. ,  97.5,   7.6,   7.2,   9.7],\n",
       "       [ 15. , 204.1,  32.9,  46. ,  19. ],\n",
       "       [ 16. , 195.4,  47.7,  52.9,  22.4],\n",
       "       [ 17. ,  67.8,  36.6, 114. ,  12.5],\n",
       "       [ 18. , 281.4,  39.6,  55.8,  24.4],\n",
       "       [ 19. ,  69.2,  20.5,  18.3,  11.3],\n",
       "       [ 20. , 147.3,  23.9,  19.1,  14.6],\n",
       "       [ 21. , 218.4,  27.7,  53.4,  18. ],\n",
       "       [ 22. , 237.4,   5.1,  23.5,  12.5],\n",
       "       [ 23. ,  13.2,  15.9,  49.6,   5.6],\n",
       "       [ 24. , 228.3,  16.9,  26.2,  15.5],\n",
       "       [ 25. ,  62.3,  12.6,  18.3,   9.7],\n",
       "       [ 26. , 262.9,   3.5,  19.5,  12. ],\n",
       "       [ 27. , 142.9,  29.3,  12.6,  15. ],\n",
       "       [ 28. , 240.1,  16.7,  22.9,  15.9],\n",
       "       [ 29. , 248.8,  27.1,  22.9,  18.9],\n",
       "       [ 30. ,  70.6,  16. ,  40.8,  10.5],\n",
       "       [ 31. , 292.9,  28.3,  43.2,  21.4],\n",
       "       [ 32. , 112.9,  17.4,  38.6,  11.9],\n",
       "       [ 33. ,  97.2,   1.5,  30. ,   9.6],\n",
       "       [ 34. , 265.6,  20. ,   0.3,  17.4],\n",
       "       [ 35. ,  95.7,   1.4,   7.4,   9.5],\n",
       "       [ 36. , 290.7,   4.1,   8.5,  12.8],\n",
       "       [ 37. , 266.9,  43.8,   5. ,  25.4],\n",
       "       [ 38. ,  74.7,  49.4,  45.7,  14.7],\n",
       "       [ 39. ,  43.1,  26.7,  35.1,  10.1],\n",
       "       [ 40. , 228. ,  37.7,  32. ,  21.5],\n",
       "       [ 41. , 202.5,  22.3,  31.6,  16.6],\n",
       "       [ 42. , 177. ,  33.4,  38.7,  17.1],\n",
       "       [ 43. , 293.6,  27.7,   1.8,  20.7],\n",
       "       [ 44. , 206.9,   8.4,  26.4,  12.9],\n",
       "       [ 45. ,  25.1,  25.7,  43.3,   8.5],\n",
       "       [ 46. , 175.1,  22.5,  31.5,  14.9],\n",
       "       [ 47. ,  89.7,   9.9,  35.7,  10.6],\n",
       "       [ 48. , 239.9,  41.5,  18.5,  23.2],\n",
       "       [ 49. , 227.2,  15.8,  49.9,  14.8],\n",
       "       [ 50. ,  66.9,  11.7,  36.8,   9.7],\n",
       "       [ 51. , 199.8,   3.1,  34.6,  11.4],\n",
       "       [ 52. , 100.4,   9.6,   3.6,  10.7],\n",
       "       [ 53. , 216.4,  41.7,  39.6,  22.6],\n",
       "       [ 54. , 182.6,  46.2,  58.7,  21.2],\n",
       "       [ 55. , 262.7,  28.8,  15.9,  20.2],\n",
       "       [ 56. , 198.9,  49.4,  60. ,  23.7],\n",
       "       [ 57. ,   7.3,  28.1,  41.4,   5.5],\n",
       "       [ 58. , 136.2,  19.2,  16.6,  13.2],\n",
       "       [ 59. , 210.8,  49.6,  37.7,  23.8],\n",
       "       [ 60. , 210.7,  29.5,   9.3,  18.4],\n",
       "       [ 61. ,  53.5,   2. ,  21.4,   8.1],\n",
       "       [ 62. , 261.3,  42.7,  54.7,  24.2],\n",
       "       [ 63. , 239.3,  15.5,  27.3,  15.7],\n",
       "       [ 64. , 102.7,  29.6,   8.4,  14. ],\n",
       "       [ 65. , 131.1,  42.8,  28.9,  18. ],\n",
       "       [ 66. ,  69. ,   9.3,   0.9,   9.3],\n",
       "       [ 67. ,  31.5,  24.6,   2.2,   9.5],\n",
       "       [ 68. , 139.3,  14.5,  10.2,  13.4],\n",
       "       [ 69. , 237.4,  27.5,  11. ,  18.9],\n",
       "       [ 70. , 216.8,  43.9,  27.2,  22.3],\n",
       "       [ 71. , 199.1,  30.6,  38.7,  18.3],\n",
       "       [ 72. , 109.8,  14.3,  31.7,  12.4],\n",
       "       [ 73. ,  26.8,  33. ,  19.3,   8.8],\n",
       "       [ 74. , 129.4,   5.7,  31.3,  11. ],\n",
       "       [ 75. , 213.4,  24.6,  13.1,  17. ],\n",
       "       [ 76. ,  16.9,  43.7,  89.4,   8.7],\n",
       "       [ 77. ,  27.5,   1.6,  20.7,   6.9],\n",
       "       [ 78. , 120.5,  28.5,  14.2,  14.2],\n",
       "       [ 79. ,   5.4,  29.9,   9.4,   5.3],\n",
       "       [ 80. , 116. ,   7.7,  23.1,  11. ],\n",
       "       [ 81. ,  76.4,  26.7,  22.3,  11.8],\n",
       "       [ 82. , 239.8,   4.1,  36.9,  12.3],\n",
       "       [ 83. ,  75.3,  20.3,  32.5,  11.3],\n",
       "       [ 84. ,  68.4,  44.5,  35.6,  13.6],\n",
       "       [ 85. , 213.5,  43. ,  33.8,  21.7],\n",
       "       [ 86. , 193.2,  18.4,  65.7,  15.2],\n",
       "       [ 87. ,  76.3,  27.5,  16. ,  12. ],\n",
       "       [ 88. , 110.7,  40.6,  63.2,  16. ],\n",
       "       [ 89. ,  88.3,  25.5,  73.4,  12.9],\n",
       "       [ 90. , 109.8,  47.8,  51.4,  16.7],\n",
       "       [ 91. , 134.3,   4.9,   9.3,  11.2],\n",
       "       [ 92. ,  28.6,   1.5,  33. ,   7.3],\n",
       "       [ 93. , 217.7,  33.5,  59. ,  19.4],\n",
       "       [ 94. , 250.9,  36.5,  72.3,  22.2],\n",
       "       [ 95. , 107.4,  14. ,  10.9,  11.5],\n",
       "       [ 96. , 163.3,  31.6,  52.9,  16.9],\n",
       "       [ 97. , 197.6,   3.5,   5.9,  11.7],\n",
       "       [ 98. , 184.9,  21. ,  22. ,  15.5],\n",
       "       [ 99. , 289.7,  42.3,  51.2,  25.4],\n",
       "       [100. , 135.2,  41.7,  45.9,  17.2],\n",
       "       [101. , 222.4,   4.3,  49.8,  11.7],\n",
       "       [102. , 296.4,  36.3, 100.9,  23.8],\n",
       "       [103. , 280.2,  10.1,  21.4,  14.8],\n",
       "       [104. , 187.9,  17.2,  17.9,  14.7],\n",
       "       [105. , 238.2,  34.3,   5.3,  20.7],\n",
       "       [106. , 137.9,  46.4,  59. ,  19.2],\n",
       "       [107. ,  25. ,  11. ,  29.7,   7.2],\n",
       "       [108. ,  90.4,   0.3,  23.2,   8.7],\n",
       "       [109. ,  13.1,   0.4,  25.6,   5.3],\n",
       "       [110. , 255.4,  26.9,   5.5,  19.8],\n",
       "       [111. , 225.8,   8.2,  56.5,  13.4],\n",
       "       [112. , 241.7,  38. ,  23.2,  21.8],\n",
       "       [113. , 175.7,  15.4,   2.4,  14.1],\n",
       "       [114. , 209.6,  20.6,  10.7,  15.9],\n",
       "       [115. ,  78.2,  46.8,  34.5,  14.6],\n",
       "       [116. ,  75.1,  35. ,  52.7,  12.6],\n",
       "       [117. , 139.2,  14.3,  25.6,  12.2],\n",
       "       [118. ,  76.4,   0.8,  14.8,   9.4],\n",
       "       [119. , 125.7,  36.9,  79.2,  15.9],\n",
       "       [120. ,  19.4,  16. ,  22.3,   6.6],\n",
       "       [121. , 141.3,  26.8,  46.2,  15.5],\n",
       "       [122. ,  18.8,  21.7,  50.4,   7. ],\n",
       "       [123. , 224. ,   2.4,  15.6,  11.6],\n",
       "       [124. , 123.1,  34.6,  12.4,  15.2],\n",
       "       [125. , 229.5,  32.3,  74.2,  19.7],\n",
       "       [126. ,  87.2,  11.8,  25.9,  10.6],\n",
       "       [127. ,   7.8,  38.9,  50.6,   6.6],\n",
       "       [128. ,  80.2,   0. ,   9.2,   8.8],\n",
       "       [129. , 220.3,  49. ,   3.2,  24.7],\n",
       "       [130. ,  59.6,  12. ,  43.1,   9.7],\n",
       "       [131. ,   0.7,  39.6,   8.7,   1.6],\n",
       "       [132. , 265.2,   2.9,  43. ,  12.7],\n",
       "       [133. ,   8.4,  27.2,   2.1,   5.7],\n",
       "       [134. , 219.8,  33.5,  45.1,  19.6],\n",
       "       [135. ,  36.9,  38.6,  65.6,  10.8],\n",
       "       [136. ,  48.3,  47. ,   8.5,  11.6],\n",
       "       [137. ,  25.6,  39. ,   9.3,   9.5],\n",
       "       [138. , 273.7,  28.9,  59.7,  20.8],\n",
       "       [139. ,  43. ,  25.9,  20.5,   9.6],\n",
       "       [140. , 184.9,  43.9,   1.7,  20.7],\n",
       "       [141. ,  73.4,  17. ,  12.9,  10.9],\n",
       "       [142. , 193.7,  35.4,  75.6,  19.2],\n",
       "       [143. , 220.5,  33.2,  37.9,  20.1],\n",
       "       [144. , 104.6,   5.7,  34.4,  10.4],\n",
       "       [145. ,  96.2,  14.8,  38.9,  11.4],\n",
       "       [146. , 140.3,   1.9,   9. ,  10.3],\n",
       "       [147. , 240.1,   7.3,   8.7,  13.2],\n",
       "       [148. , 243.2,  49. ,  44.3,  25.4],\n",
       "       [149. ,  38. ,  40.3,  11.9,  10.9],\n",
       "       [150. ,  44.7,  25.8,  20.6,  10.1],\n",
       "       [151. , 280.7,  13.9,  37. ,  16.1],\n",
       "       [152. , 121. ,   8.4,  48.7,  11.6],\n",
       "       [153. , 197.6,  23.3,  14.2,  16.6],\n",
       "       [154. , 171.3,  39.7,  37.7,  19. ],\n",
       "       [155. , 187.8,  21.1,   9.5,  15.6],\n",
       "       [156. ,   4.1,  11.6,   5.7,   3.2],\n",
       "       [157. ,  93.9,  43.5,  50.5,  15.3],\n",
       "       [158. , 149.8,   1.3,  24.3,  10.1],\n",
       "       [159. ,  11.7,  36.9,  45.2,   7.3],\n",
       "       [160. , 131.7,  18.4,  34.6,  12.9],\n",
       "       [161. , 172.5,  18.1,  30.7,  14.4],\n",
       "       [162. ,  85.7,  35.8,  49.3,  13.3],\n",
       "       [163. , 188.4,  18.1,  25.6,  14.9],\n",
       "       [164. , 163.5,  36.8,   7.4,  18. ],\n",
       "       [165. , 117.2,  14.7,   5.4,  11.9],\n",
       "       [166. , 234.5,   3.4,  84.8,  11.9],\n",
       "       [167. ,  17.9,  37.6,  21.6,   8. ],\n",
       "       [168. , 206.8,   5.2,  19.4,  12.2],\n",
       "       [169. , 215.4,  23.6,  57.6,  17.1],\n",
       "       [170. , 284.3,  10.6,   6.4,  15. ],\n",
       "       [171. ,  50. ,  11.6,  18.4,   8.4],\n",
       "       [172. , 164.5,  20.9,  47.4,  14.5],\n",
       "       [173. ,  19.6,  20.1,  17. ,   7.6],\n",
       "       [174. , 168.4,   7.1,  12.8,  11.7],\n",
       "       [175. , 222.4,   3.4,  13.1,  11.5],\n",
       "       [176. , 276.9,  48.9,  41.8,  27. ],\n",
       "       [177. , 248.4,  30.2,  20.3,  20.2],\n",
       "       [178. , 170.2,   7.8,  35.2,  11.7],\n",
       "       [179. , 276.7,   2.3,  23.7,  11.8],\n",
       "       [180. , 165.6,  10. ,  17.6,  12.6],\n",
       "       [181. , 156.6,   2.6,   8.3,  10.5],\n",
       "       [182. , 218.5,   5.4,  27.4,  12.2],\n",
       "       [183. ,  56.2,   5.7,  29.7,   8.7],\n",
       "       [184. , 287.6,  43. ,  71.8,  26.2],\n",
       "       [185. , 253.8,  21.3,  30. ,  17.6],\n",
       "       [186. , 205. ,  45.1,  19.6,  22.6],\n",
       "       [187. , 139.5,   2.1,  26.6,  10.3],\n",
       "       [188. , 191.1,  28.7,  18.2,  17.3],\n",
       "       [189. , 286. ,  13.9,   3.7,  15.9],\n",
       "       [190. ,  18.7,  12.1,  23.4,   6.7],\n",
       "       [191. ,  39.5,  41.1,   5.8,  10.8],\n",
       "       [192. ,  75.5,  10.8,   6. ,   9.9],\n",
       "       [193. ,  17.2,   4.1,  31.6,   5.9],\n",
       "       [194. , 166.8,  42. ,   3.6,  19.6],\n",
       "       [195. , 149.7,  35.6,   6. ,  17.3],\n",
       "       [196. ,  38.2,   3.7,  13.8,   7.6],\n",
       "       [197. ,  94.2,   4.9,   8.1,   9.7],\n",
       "       [198. , 177. ,   9.3,   6.4,  12.8],\n",
       "       [199. , 283.6,  42. ,  66.2,  25.5],\n",
       "       [200. , 232.1,   8.6,   8.7,  13.4]])"
      ]
     },
     "execution_count": 9,
     "metadata": {},
     "output_type": "execute_result"
    }
   ],
   "source": [
    "channel_ds.values"
   ]
  },
  {
   "cell_type": "markdown",
   "id": "9d69fb2b",
   "metadata": {},
   "source": [
    "Observation:\n",
    "    \n",
    "There are 200 rows and 5 columns in channel data."
   ]
  },
  {
   "cell_type": "code",
   "execution_count": 10,
   "id": "393a9dff",
   "metadata": {},
   "outputs": [],
   "source": [
    "channel_ds=channel_ds.drop(\"S.no\",axis=1)"
   ]
  },
  {
   "cell_type": "code",
   "execution_count": 11,
   "id": "a1864cdc",
   "metadata": {},
   "outputs": [
    {
     "data": {
      "text/html": [
       "<div>\n",
       "<style scoped>\n",
       "    .dataframe tbody tr th:only-of-type {\n",
       "        vertical-align: middle;\n",
       "    }\n",
       "\n",
       "    .dataframe tbody tr th {\n",
       "        vertical-align: top;\n",
       "    }\n",
       "\n",
       "    .dataframe thead th {\n",
       "        text-align: right;\n",
       "    }\n",
       "</style>\n",
       "<table border=\"1\" class=\"dataframe\">\n",
       "  <thead>\n",
       "    <tr style=\"text-align: right;\">\n",
       "      <th></th>\n",
       "      <th>TV</th>\n",
       "      <th>radio</th>\n",
       "      <th>newspaper</th>\n",
       "      <th>sales</th>\n",
       "    </tr>\n",
       "  </thead>\n",
       "  <tbody>\n",
       "    <tr>\n",
       "      <th>0</th>\n",
       "      <td>230.1</td>\n",
       "      <td>37.8</td>\n",
       "      <td>69.2</td>\n",
       "      <td>22.1</td>\n",
       "    </tr>\n",
       "    <tr>\n",
       "      <th>1</th>\n",
       "      <td>44.5</td>\n",
       "      <td>39.3</td>\n",
       "      <td>45.1</td>\n",
       "      <td>10.4</td>\n",
       "    </tr>\n",
       "    <tr>\n",
       "      <th>2</th>\n",
       "      <td>17.2</td>\n",
       "      <td>45.9</td>\n",
       "      <td>69.3</td>\n",
       "      <td>9.3</td>\n",
       "    </tr>\n",
       "    <tr>\n",
       "      <th>3</th>\n",
       "      <td>151.5</td>\n",
       "      <td>41.3</td>\n",
       "      <td>58.5</td>\n",
       "      <td>18.5</td>\n",
       "    </tr>\n",
       "    <tr>\n",
       "      <th>4</th>\n",
       "      <td>180.8</td>\n",
       "      <td>10.8</td>\n",
       "      <td>58.4</td>\n",
       "      <td>12.9</td>\n",
       "    </tr>\n",
       "    <tr>\n",
       "      <th>...</th>\n",
       "      <td>...</td>\n",
       "      <td>...</td>\n",
       "      <td>...</td>\n",
       "      <td>...</td>\n",
       "    </tr>\n",
       "    <tr>\n",
       "      <th>195</th>\n",
       "      <td>38.2</td>\n",
       "      <td>3.7</td>\n",
       "      <td>13.8</td>\n",
       "      <td>7.6</td>\n",
       "    </tr>\n",
       "    <tr>\n",
       "      <th>196</th>\n",
       "      <td>94.2</td>\n",
       "      <td>4.9</td>\n",
       "      <td>8.1</td>\n",
       "      <td>9.7</td>\n",
       "    </tr>\n",
       "    <tr>\n",
       "      <th>197</th>\n",
       "      <td>177.0</td>\n",
       "      <td>9.3</td>\n",
       "      <td>6.4</td>\n",
       "      <td>12.8</td>\n",
       "    </tr>\n",
       "    <tr>\n",
       "      <th>198</th>\n",
       "      <td>283.6</td>\n",
       "      <td>42.0</td>\n",
       "      <td>66.2</td>\n",
       "      <td>25.5</td>\n",
       "    </tr>\n",
       "    <tr>\n",
       "      <th>199</th>\n",
       "      <td>232.1</td>\n",
       "      <td>8.6</td>\n",
       "      <td>8.7</td>\n",
       "      <td>13.4</td>\n",
       "    </tr>\n",
       "  </tbody>\n",
       "</table>\n",
       "<p>200 rows × 4 columns</p>\n",
       "</div>"
      ],
      "text/plain": [
       "        TV  radio  newspaper  sales\n",
       "0    230.1   37.8       69.2   22.1\n",
       "1     44.5   39.3       45.1   10.4\n",
       "2     17.2   45.9       69.3    9.3\n",
       "3    151.5   41.3       58.5   18.5\n",
       "4    180.8   10.8       58.4   12.9\n",
       "..     ...    ...        ...    ...\n",
       "195   38.2    3.7       13.8    7.6\n",
       "196   94.2    4.9        8.1    9.7\n",
       "197  177.0    9.3        6.4   12.8\n",
       "198  283.6   42.0       66.2   25.5\n",
       "199  232.1    8.6        8.7   13.4\n",
       "\n",
       "[200 rows x 4 columns]"
      ]
     },
     "execution_count": 11,
     "metadata": {},
     "output_type": "execute_result"
    }
   ],
   "source": [
    "channel_ds"
   ]
  },
  {
   "cell_type": "code",
   "execution_count": 12,
   "id": "f2ae5d98",
   "metadata": {},
   "outputs": [
    {
     "data": {
      "text/plain": [
       "Index(['TV', 'radio', 'newspaper', 'sales'], dtype='object')"
      ]
     },
     "execution_count": 12,
     "metadata": {},
     "output_type": "execute_result"
    }
   ],
   "source": [
    "channel_ds.keys()"
   ]
  },
  {
   "cell_type": "code",
   "execution_count": 13,
   "id": "0c7338b7",
   "metadata": {},
   "outputs": [
    {
     "name": "stdout",
     "output_type": "stream",
     "text": [
      "<class 'pandas.core.frame.DataFrame'>\n",
      "RangeIndex: 200 entries, 0 to 199\n",
      "Data columns (total 4 columns):\n",
      " #   Column     Non-Null Count  Dtype  \n",
      "---  ------     --------------  -----  \n",
      " 0   TV         200 non-null    float64\n",
      " 1   radio      200 non-null    float64\n",
      " 2   newspaper  200 non-null    float64\n",
      " 3   sales      200 non-null    float64\n",
      "dtypes: float64(4)\n",
      "memory usage: 6.4 KB\n"
     ]
    }
   ],
   "source": [
    "channel_ds.info()"
   ]
  },
  {
   "cell_type": "markdown",
   "id": "1ba3d17f",
   "metadata": {},
   "source": [
    "Observation:\n",
    "    \n",
    "In channel_ds no null is there."
   ]
  },
  {
   "cell_type": "code",
   "execution_count": 14,
   "id": "f60f23d7",
   "metadata": {},
   "outputs": [
    {
     "data": {
      "text/plain": [
       "TV           float64\n",
       "radio        float64\n",
       "newspaper    float64\n",
       "sales        float64\n",
       "dtype: object"
      ]
     },
     "execution_count": 14,
     "metadata": {},
     "output_type": "execute_result"
    }
   ],
   "source": [
    "channel_ds.dtypes"
   ]
  },
  {
   "cell_type": "markdown",
   "id": "a0f47490",
   "metadata": {},
   "source": [
    "Observation:\n",
    "    \n",
    "Only two type of data ( int and float ) in channel_ds."
   ]
  },
  {
   "cell_type": "markdown",
   "id": "458e6e83",
   "metadata": {},
   "source": [
    "# Checking Null values"
   ]
  },
  {
   "cell_type": "code",
   "execution_count": 15,
   "id": "2d48ecbd",
   "metadata": {},
   "outputs": [
    {
     "data": {
      "text/plain": [
       "TV           0\n",
       "radio        0\n",
       "newspaper    0\n",
       "sales        0\n",
       "dtype: int64"
      ]
     },
     "execution_count": 15,
     "metadata": {},
     "output_type": "execute_result"
    }
   ],
   "source": [
    "channel_ds.isnull().sum()"
   ]
  },
  {
   "cell_type": "markdown",
   "id": "0f10ab90",
   "metadata": {},
   "source": [
    "Observation:\n",
    "    \n",
    "All are 0 it means no null values in data."
   ]
  },
  {
   "cell_type": "code",
   "execution_count": 16,
   "id": "35ee8a8e",
   "metadata": {},
   "outputs": [
    {
     "data": {
      "text/plain": [
       "<AxesSubplot:>"
      ]
     },
     "execution_count": 16,
     "metadata": {},
     "output_type": "execute_result"
    },
    {
     "data": {
      "image/png": "[encoded data removed]",
      "text/plain": [
       "<Figure size 432x288 with 2 Axes>"
      ]
     },
     "metadata": {
      "needs_background": "light"
     },
     "output_type": "display_data"
    }
   ],
   "source": [
    "sns.heatmap(channel_ds.isnull())"
   ]
  },
  {
   "cell_type": "markdown",
   "id": "363a4026",
   "metadata": {},
   "source": [
    "Observation:\n",
    "    \n",
    "No blanks in data it means no null value in data."
   ]
  },
  {
   "cell_type": "markdown",
   "id": "ca61600f",
   "metadata": {},
   "source": [
    "# Statistical Summary"
   ]
  },
  {
   "cell_type": "code",
   "execution_count": 17,
   "id": "af5f44a1",
   "metadata": {},
   "outputs": [
    {
     "data": {
      "text/html": [
       "<div>\n",
       "<style scoped>\n",
       "    .dataframe tbody tr th:only-of-type {\n",
       "        vertical-align: middle;\n",
       "    }\n",
       "\n",
       "    .dataframe tbody tr th {\n",
       "        vertical-align: top;\n",
       "    }\n",
       "\n",
       "    .dataframe thead th {\n",
       "        text-align: right;\n",
       "    }\n",
       "</style>\n",
       "<table border=\"1\" class=\"dataframe\">\n",
       "  <thead>\n",
       "    <tr style=\"text-align: right;\">\n",
       "      <th></th>\n",
       "      <th>TV</th>\n",
       "      <th>radio</th>\n",
       "      <th>newspaper</th>\n",
       "      <th>sales</th>\n",
       "    </tr>\n",
       "  </thead>\n",
       "  <tbody>\n",
       "    <tr>\n",
       "      <th>count</th>\n",
       "      <td>200.000000</td>\n",
       "      <td>200.000000</td>\n",
       "      <td>200.000000</td>\n",
       "      <td>200.000000</td>\n",
       "    </tr>\n",
       "    <tr>\n",
       "      <th>mean</th>\n",
       "      <td>147.042500</td>\n",
       "      <td>23.264000</td>\n",
       "      <td>30.554000</td>\n",
       "      <td>14.022500</td>\n",
       "    </tr>\n",
       "    <tr>\n",
       "      <th>std</th>\n",
       "      <td>85.854236</td>\n",
       "      <td>14.846809</td>\n",
       "      <td>21.778621</td>\n",
       "      <td>5.217457</td>\n",
       "    </tr>\n",
       "    <tr>\n",
       "      <th>min</th>\n",
       "      <td>0.700000</td>\n",
       "      <td>0.000000</td>\n",
       "      <td>0.300000</td>\n",
       "      <td>1.600000</td>\n",
       "    </tr>\n",
       "    <tr>\n",
       "      <th>25%</th>\n",
       "      <td>74.375000</td>\n",
       "      <td>9.975000</td>\n",
       "      <td>12.750000</td>\n",
       "      <td>10.375000</td>\n",
       "    </tr>\n",
       "    <tr>\n",
       "      <th>50%</th>\n",
       "      <td>149.750000</td>\n",
       "      <td>22.900000</td>\n",
       "      <td>25.750000</td>\n",
       "      <td>12.900000</td>\n",
       "    </tr>\n",
       "    <tr>\n",
       "      <th>75%</th>\n",
       "      <td>218.825000</td>\n",
       "      <td>36.525000</td>\n",
       "      <td>45.100000</td>\n",
       "      <td>17.400000</td>\n",
       "    </tr>\n",
       "    <tr>\n",
       "      <th>max</th>\n",
       "      <td>296.400000</td>\n",
       "      <td>49.600000</td>\n",
       "      <td>114.000000</td>\n",
       "      <td>27.000000</td>\n",
       "    </tr>\n",
       "  </tbody>\n",
       "</table>\n",
       "</div>"
      ],
      "text/plain": [
       "               TV       radio   newspaper       sales\n",
       "count  200.000000  200.000000  200.000000  200.000000\n",
       "mean   147.042500   23.264000   30.554000   14.022500\n",
       "std     85.854236   14.846809   21.778621    5.217457\n",
       "min      0.700000    0.000000    0.300000    1.600000\n",
       "25%     74.375000    9.975000   12.750000   10.375000\n",
       "50%    149.750000   22.900000   25.750000   12.900000\n",
       "75%    218.825000   36.525000   45.100000   17.400000\n",
       "max    296.400000   49.600000  114.000000   27.000000"
      ]
     },
     "execution_count": 17,
     "metadata": {},
     "output_type": "execute_result"
    }
   ],
   "source": [
    "channel_ds.describe()"
   ]
  },
  {
   "cell_type": "markdown",
   "id": "694b71fd",
   "metadata": {},
   "source": [
    "Observation:\n",
    "    \n",
    "The mean of all data are higher than median it means data skewed to the right side and also high gape in 75% and 100% in newspaper column."
   ]
  },
  {
   "cell_type": "code",
   "execution_count": 18,
   "id": "637f6241",
   "metadata": {},
   "outputs": [
    {
     "data": {
      "text/html": [
       "<div>\n",
       "<style scoped>\n",
       "    .dataframe tbody tr th:only-of-type {\n",
       "        vertical-align: middle;\n",
       "    }\n",
       "\n",
       "    .dataframe tbody tr th {\n",
       "        vertical-align: top;\n",
       "    }\n",
       "\n",
       "    .dataframe thead th {\n",
       "        text-align: right;\n",
       "    }\n",
       "</style>\n",
       "<table border=\"1\" class=\"dataframe\">\n",
       "  <thead>\n",
       "    <tr style=\"text-align: right;\">\n",
       "      <th></th>\n",
       "      <th>TV</th>\n",
       "      <th>radio</th>\n",
       "      <th>newspaper</th>\n",
       "      <th>sales</th>\n",
       "    </tr>\n",
       "  </thead>\n",
       "  <tbody>\n",
       "    <tr>\n",
       "      <th>TV</th>\n",
       "      <td>1.000000</td>\n",
       "      <td>0.054809</td>\n",
       "      <td>0.056648</td>\n",
       "      <td>0.782224</td>\n",
       "    </tr>\n",
       "    <tr>\n",
       "      <th>radio</th>\n",
       "      <td>0.054809</td>\n",
       "      <td>1.000000</td>\n",
       "      <td>0.354104</td>\n",
       "      <td>0.576223</td>\n",
       "    </tr>\n",
       "    <tr>\n",
       "      <th>newspaper</th>\n",
       "      <td>0.056648</td>\n",
       "      <td>0.354104</td>\n",
       "      <td>1.000000</td>\n",
       "      <td>0.228299</td>\n",
       "    </tr>\n",
       "    <tr>\n",
       "      <th>sales</th>\n",
       "      <td>0.782224</td>\n",
       "      <td>0.576223</td>\n",
       "      <td>0.228299</td>\n",
       "      <td>1.000000</td>\n",
       "    </tr>\n",
       "  </tbody>\n",
       "</table>\n",
       "</div>"
      ],
      "text/plain": [
       "                 TV     radio  newspaper     sales\n",
       "TV         1.000000  0.054809   0.056648  0.782224\n",
       "radio      0.054809  1.000000   0.354104  0.576223\n",
       "newspaper  0.056648  0.354104   1.000000  0.228299\n",
       "sales      0.782224  0.576223   0.228299  1.000000"
      ]
     },
     "execution_count": 18,
     "metadata": {},
     "output_type": "execute_result"
    }
   ],
   "source": [
    "channel_ds.corr()"
   ]
  },
  {
   "cell_type": "code",
   "execution_count": 19,
   "id": "11522cb4",
   "metadata": {},
   "outputs": [
    {
     "data": {
      "text/plain": [
       "<AxesSubplot:>"
      ]
     },
     "execution_count": 19,
     "metadata": {},
     "output_type": "execute_result"
    },
    {
     "data": {
      "image/png": "[encoded data removed]",
      "text/plain": [
       "<Figure size 432x288 with 2 Axes>"
      ]
     },
     "metadata": {
      "needs_background": "light"
     },
     "output_type": "display_data"
    }
   ],
   "source": [
    "sns.heatmap(channel_ds.corr(),annot=True)"
   ]
  },
  {
   "cell_type": "markdown",
   "id": "8f5199d8",
   "metadata": {},
   "source": [
    "Observation:\n",
    "    \n",
    "Newspaper and redio is less correlated with each other and Tv and radio is positive correlated with each other."
   ]
  },
  {
   "cell_type": "markdown",
   "id": "0cc2879b",
   "metadata": {},
   "source": [
    "# DATA VISUALIZATION OR EDA"
   ]
  },
  {
   "cell_type": "code",
   "execution_count": 20,
   "id": "a696cb69",
   "metadata": {},
   "outputs": [
    {
     "data": {
      "text/plain": [
       "199.8    2\n",
       "109.8    2\n",
       "17.2     2\n",
       "177.0    2\n",
       "222.4    2\n",
       "        ..\n",
       "139.3    1\n",
       "216.8    1\n",
       "199.1    1\n",
       "26.8     1\n",
       "232.1    1\n",
       "Name: TV, Length: 190, dtype: int64"
      ]
     },
     "execution_count": 20,
     "metadata": {},
     "output_type": "execute_result"
    }
   ],
   "source": [
    "channel_ds[\"TV\"].value_counts()"
   ]
  },
  {
   "cell_type": "markdown",
   "id": "31830723",
   "metadata": {},
   "source": [
    "Observation:\n",
    "    \n",
    "Length of TV column is 190."
   ]
  },
  {
   "cell_type": "code",
   "execution_count": 21,
   "id": "48a66480",
   "metadata": {},
   "outputs": [
    {
     "data": {
      "text/plain": [
       "array([230.1,  44.5,  17.2, 151.5, 180.8,   8.7,  57.5, 120.2,   8.6,\n",
       "       199.8,  66.1, 214.7,  23.8,  97.5, 204.1, 195.4,  67.8, 281.4,\n",
       "        69.2, 147.3, 218.4, 237.4,  13.2, 228.3,  62.3, 262.9, 142.9,\n",
       "       240.1, 248.8,  70.6, 292.9, 112.9,  97.2, 265.6,  95.7, 290.7,\n",
       "       266.9,  74.7,  43.1, 228. , 202.5, 177. , 293.6, 206.9,  25.1,\n",
       "       175.1,  89.7, 239.9, 227.2,  66.9, 100.4, 216.4, 182.6, 262.7,\n",
       "       198.9,   7.3, 136.2, 210.8, 210.7,  53.5, 261.3, 239.3, 102.7,\n",
       "       131.1,  69. ,  31.5, 139.3, 216.8, 199.1, 109.8,  26.8, 129.4,\n",
       "       213.4,  16.9,  27.5, 120.5,   5.4, 116. ,  76.4, 239.8,  75.3,\n",
       "        68.4, 213.5, 193.2,  76.3, 110.7,  88.3, 134.3,  28.6, 217.7,\n",
       "       250.9, 107.4, 163.3, 197.6, 184.9, 289.7, 135.2, 222.4, 296.4,\n",
       "       280.2, 187.9, 238.2, 137.9,  25. ,  90.4,  13.1, 255.4, 225.8,\n",
       "       241.7, 175.7, 209.6,  78.2,  75.1, 139.2, 125.7,  19.4, 141.3,\n",
       "        18.8, 224. , 123.1, 229.5,  87.2,   7.8,  80.2, 220.3,  59.6,\n",
       "         0.7, 265.2,   8.4, 219.8,  36.9,  48.3,  25.6, 273.7,  43. ,\n",
       "        73.4, 193.7, 220.5, 104.6,  96.2, 140.3, 243.2,  38. ,  44.7,\n",
       "       280.7, 121. , 171.3, 187.8,   4.1,  93.9, 149.8,  11.7, 131.7,\n",
       "       172.5,  85.7, 188.4, 163.5, 117.2, 234.5,  17.9, 206.8, 215.4,\n",
       "       284.3,  50. , 164.5,  19.6, 168.4, 276.9, 248.4, 170.2, 276.7,\n",
       "       165.6, 156.6, 218.5,  56.2, 287.6, 253.8, 205. , 139.5, 191.1,\n",
       "       286. ,  18.7,  39.5,  75.5, 166.8, 149.7,  38.2,  94.2, 283.6,\n",
       "       232.1])"
      ]
     },
     "execution_count": 21,
     "metadata": {},
     "output_type": "execute_result"
    }
   ],
   "source": [
    "channel_ds[\"TV\"].unique()"
   ]
  },
  {
   "cell_type": "markdown",
   "id": "f9175f1c",
   "metadata": {},
   "source": [
    "Observation:\n",
    "    \n",
    "Data of TV column is not same it means data does not have multicollinearity."
   ]
  },
  {
   "cell_type": "code",
   "execution_count": 22,
   "id": "d3d6cafd",
   "metadata": {},
   "outputs": [
    {
     "data": {
      "text/plain": [
       "{'bodies': [<matplotlib.collections.PolyCollection at 0x25a5bfc0af0>],\n",
       " 'cmaxes': <matplotlib.collections.LineCollection at 0x25a5beb81c0>,\n",
       " 'cmins': <matplotlib.collections.LineCollection at 0x25a5bfc0f40>,\n",
       " 'cbars': <matplotlib.collections.LineCollection at 0x25a5bfd92b0>}"
      ]
     },
     "execution_count": 22,
     "metadata": {},
     "output_type": "execute_result"
    },
    {
     "data": {
      "image/png": "[encoded data removed]",
      "text/plain": [
       "<Figure size 432x288 with 1 Axes>"
      ]
     },
     "metadata": {
      "needs_background": "light"
     },
     "output_type": "display_data"
    }
   ],
   "source": [
    "plt.violinplot(channel_ds[\"TV\"])"
   ]
  },
  {
   "cell_type": "code",
   "execution_count": 23,
   "id": "9b38e08c",
   "metadata": {},
   "outputs": [
    {
     "data": {
      "text/plain": [
       "<AxesSubplot:xlabel='TV'>"
      ]
     },
     "execution_count": 23,
     "metadata": {},
     "output_type": "execute_result"
    },
    {
     "data": {
      "image/png": "[encoded data removed]",
      "text/plain": [
       "<Figure size 432x288 with 1 Axes>"
      ]
     },
     "metadata": {
      "needs_background": "light"
     },
     "output_type": "display_data"
    }
   ],
   "source": [
    "sns.violinplot(\"TV\",data=channel_ds)"
   ]
  },
  {
   "cell_type": "markdown",
   "id": "d502ac52",
   "metadata": {},
   "source": [
    "Observation:\n",
    "    \n",
    "data are higher in range of 210 to 230."
   ]
  },
  {
   "cell_type": "code",
   "execution_count": 24,
   "id": "30668446",
   "metadata": {},
   "outputs": [
    {
     "data": {
      "text/plain": [
       "<AxesSubplot:xlabel='TV', ylabel='Count'>"
      ]
     },
     "execution_count": 24,
     "metadata": {},
     "output_type": "execute_result"
    },
    {
     "data": {
      "image/png": "[encoded data removed]",
      "text/plain": [
       "<Figure size 432x288 with 1 Axes>"
      ]
     },
     "metadata": {
      "needs_background": "light"
     },
     "output_type": "display_data"
    }
   ],
   "source": [
    "sns.histplot(x=\"TV\",data=channel_ds)"
   ]
  },
  {
   "cell_type": "markdown",
   "id": "30882a94",
   "metadata": {},
   "source": [
    "Observation:\n",
    "    \n",
    "Datas of TV are not normally distributed."
   ]
  },
  {
   "cell_type": "code",
   "execution_count": 25,
   "id": "6332c7f2",
   "metadata": {},
   "outputs": [
    {
     "data": {
      "text/plain": [
       "4.1     3\n",
       "5.7     3\n",
       "13.9    2\n",
       "14.3    2\n",
       "36.9    2\n",
       "       ..\n",
       "42.8    1\n",
       "14.5    1\n",
       "30.6    1\n",
       "33.0    1\n",
       "8.6     1\n",
       "Name: radio, Length: 167, dtype: int64"
      ]
     },
     "execution_count": 25,
     "metadata": {},
     "output_type": "execute_result"
    }
   ],
   "source": [
    "channel_ds[\"radio\"].value_counts()"
   ]
  },
  {
   "cell_type": "code",
   "execution_count": 26,
   "id": "7d903a82",
   "metadata": {},
   "outputs": [
    {
     "data": {
      "text/plain": [
       "array([37.8, 39.3, 45.9, 41.3, 10.8, 48.9, 32.8, 19.6,  2.1,  2.6,  5.8,\n",
       "       24. , 35.1,  7.6, 32.9, 47.7, 36.6, 39.6, 20.5, 23.9, 27.7,  5.1,\n",
       "       15.9, 16.9, 12.6,  3.5, 29.3, 16.7, 27.1, 16. , 28.3, 17.4,  1.5,\n",
       "       20. ,  1.4,  4.1, 43.8, 49.4, 26.7, 37.7, 22.3, 33.4,  8.4, 25.7,\n",
       "       22.5,  9.9, 41.5, 15.8, 11.7,  3.1,  9.6, 41.7, 46.2, 28.8, 28.1,\n",
       "       19.2, 49.6, 29.5,  2. , 42.7, 15.5, 29.6, 42.8,  9.3, 24.6, 14.5,\n",
       "       27.5, 43.9, 30.6, 14.3, 33. ,  5.7, 43.7,  1.6, 28.5, 29.9,  7.7,\n",
       "       20.3, 44.5, 43. , 18.4, 40.6, 25.5, 47.8,  4.9, 33.5, 36.5, 14. ,\n",
       "       31.6, 21. , 42.3,  4.3, 36.3, 10.1, 17.2, 34.3, 46.4, 11. ,  0.3,\n",
       "        0.4, 26.9,  8.2, 38. , 15.4, 20.6, 46.8, 35. ,  0.8, 36.9, 26.8,\n",
       "       21.7,  2.4, 34.6, 32.3, 11.8, 38.9,  0. , 49. , 12. ,  2.9, 27.2,\n",
       "       38.6, 47. , 39. , 28.9, 25.9, 17. , 35.4, 33.2, 14.8,  1.9,  7.3,\n",
       "       40.3, 25.8, 13.9, 23.3, 39.7, 21.1, 11.6, 43.5,  1.3, 18.1, 35.8,\n",
       "       36.8, 14.7,  3.4, 37.6,  5.2, 23.6, 10.6, 20.9, 20.1,  7.1, 30.2,\n",
       "        7.8,  2.3, 10. ,  5.4, 21.3, 45.1, 28.7, 12.1, 41.1, 42. , 35.6,\n",
       "        3.7,  8.6])"
      ]
     },
     "execution_count": 26,
     "metadata": {},
     "output_type": "execute_result"
    }
   ],
   "source": [
    "channel_ds[\"radio\"].unique()"
   ]
  },
  {
   "cell_type": "markdown",
   "id": "ce0f0fe3",
   "metadata": {},
   "source": [
    "Observation:\n",
    "    \n",
    "datas of radio are not same."
   ]
  },
  {
   "cell_type": "code",
   "execution_count": 27,
   "id": "61136df4",
   "metadata": {},
   "outputs": [
    {
     "data": {
      "text/plain": [
       "{'bodies': [<matplotlib.collections.PolyCollection at 0x25a5c05bdf0>],\n",
       " 'cmaxes': <matplotlib.collections.LineCollection at 0x25a5c05b190>,\n",
       " 'cmins': <matplotlib.collections.LineCollection at 0x25a5c145550>,\n",
       " 'cbars': <matplotlib.collections.LineCollection at 0x25a5c145880>}"
      ]
     },
     "execution_count": 27,
     "metadata": {},
     "output_type": "execute_result"
    },
    {
     "data": {
      "image/png": "[encoded data removed]",
      "text/plain": [
       "<Figure size 432x288 with 1 Axes>"
      ]
     },
     "metadata": {
      "needs_background": "light"
     },
     "output_type": "display_data"
    }
   ],
   "source": [
    "plt.violinplot(channel_ds[\"radio\"])"
   ]
  },
  {
   "cell_type": "code",
   "execution_count": 28,
   "id": "2739bb6a",
   "metadata": {},
   "outputs": [
    {
     "data": {
      "text/plain": [
       "<AxesSubplot:xlabel='radio'>"
      ]
     },
     "execution_count": 28,
     "metadata": {},
     "output_type": "execute_result"
    },
    {
     "data": {
      "image/png": "[encoded data removed]",
      "text/plain": [
       "<Figure size 432x288 with 1 Axes>"
      ]
     },
     "metadata": {
      "needs_background": "light"
     },
     "output_type": "display_data"
    }
   ],
   "source": [
    "sns.violinplot(\"radio\",data=channel_ds)"
   ]
  },
  {
   "cell_type": "markdown",
   "id": "ef16b38f",
   "metadata": {},
   "source": [
    "Observation:\n",
    "    \n",
    "data are higher in range of 6 to 9."
   ]
  },
  {
   "cell_type": "code",
   "execution_count": 29,
   "id": "42aac7e2",
   "metadata": {},
   "outputs": [
    {
     "data": {
      "text/plain": [
       "<AxesSubplot:xlabel='radio', ylabel='Count'>"
      ]
     },
     "execution_count": 29,
     "metadata": {},
     "output_type": "execute_result"
    },
    {
     "data": {
      "image/png": "[encoded data removed]",
      "text/plain": [
       "<Figure size 432x288 with 1 Axes>"
      ]
     },
     "metadata": {
      "needs_background": "light"
     },
     "output_type": "display_data"
    }
   ],
   "source": [
    "sns.histplot(x=\"radio\",data=channel_ds)"
   ]
  },
  {
   "cell_type": "markdown",
   "id": "6b427831",
   "metadata": {},
   "source": [
    "Observation:\n",
    "\n",
    "data of radio are not normally distributed."
   ]
  },
  {
   "cell_type": "code",
   "execution_count": 30,
   "id": "ae8f5bd2",
   "metadata": {},
   "outputs": [
    {
     "data": {
      "text/plain": [
       "{'bodies': [<matplotlib.collections.PolyCollection at 0x25a5c29b6a0>],\n",
       " 'cmaxes': <matplotlib.collections.LineCollection at 0x25a5c29b610>,\n",
       " 'cmins': <matplotlib.collections.LineCollection at 0x25a5c29bb80>,\n",
       " 'cbars': <matplotlib.collections.LineCollection at 0x25a5c29beb0>}"
      ]
     },
     "execution_count": 30,
     "metadata": {},
     "output_type": "execute_result"
    },
    {
     "data": {
      "image/png": "[encoded data removed]",
      "text/plain": [
       "<Figure size 432x288 with 1 Axes>"
      ]
     },
     "metadata": {
      "needs_background": "light"
     },
     "output_type": "display_data"
    }
   ],
   "source": [
    "plt.violinplot(channel_ds[\"newspaper\"])"
   ]
  },
  {
   "cell_type": "code",
   "execution_count": 31,
   "id": "bf47c4bc",
   "metadata": {},
   "outputs": [
    {
     "data": {
      "text/plain": [
       "<AxesSubplot:xlabel='newspaper'>"
      ]
     },
     "execution_count": 31,
     "metadata": {},
     "output_type": "execute_result"
    },
    {
     "data": {
      "image/png": "[encoded data removed]",
      "text/plain": [
       "<Figure size 432x288 with 1 Axes>"
      ]
     },
     "metadata": {
      "needs_background": "light"
     },
     "output_type": "display_data"
    }
   ],
   "source": [
    "sns.violinplot(\"newspaper\",data=channel_ds)"
   ]
  },
  {
   "cell_type": "markdown",
   "id": "d19ba4f8",
   "metadata": {},
   "source": [
    "Observation:\n",
    "    \n",
    "Datas are higher in 10 to 20."
   ]
  },
  {
   "cell_type": "code",
   "execution_count": 32,
   "id": "88b58307",
   "metadata": {},
   "outputs": [
    {
     "data": {
      "text/plain": [
       "<AxesSubplot:xlabel='TV', ylabel='radio'>"
      ]
     },
     "execution_count": 32,
     "metadata": {},
     "output_type": "execute_result"
    },
    {
     "data": {
      "image/png": "[encoded data removed]",
      "text/plain": [
       "<Figure size 432x288 with 1 Axes>"
      ]
     },
     "metadata": {
      "needs_background": "light"
     },
     "output_type": "display_data"
    }
   ],
   "source": [
    "sns.scatterplot(x=\"TV\",y=\"radio\",data=channel_ds)"
   ]
  },
  {
   "cell_type": "code",
   "execution_count": 33,
   "id": "325deb9d",
   "metadata": {},
   "outputs": [
    {
     "data": {
      "text/plain": [
       "<seaborn.axisgrid.JointGrid at 0x25a5c327610>"
      ]
     },
     "execution_count": 33,
     "metadata": {},
     "output_type": "execute_result"
    },
    {
     "data": {
      "image/png": "[encoded data removed]",
      "text/plain": [
       "<Figure size 432x432 with 3 Axes>"
      ]
     },
     "metadata": {
      "needs_background": "light"
     },
     "output_type": "display_data"
    }
   ],
   "source": [
    "sns.jointplot(x=\"TV\",y=\"radio\",data=channel_ds)"
   ]
  },
  {
   "cell_type": "markdown",
   "id": "c3902c92",
   "metadata": {},
   "source": [
    "Observation:\n",
    "    \n",
    "The distribution of the datas are same."
   ]
  },
  {
   "cell_type": "code",
   "execution_count": 34,
   "id": "edc2f962",
   "metadata": {},
   "outputs": [
    {
     "data": {
      "text/plain": [
       "<seaborn.axisgrid.FacetGrid at 0x25a5c4bcc70>"
      ]
     },
     "execution_count": 34,
     "metadata": {},
     "output_type": "execute_result"
    },
    {
     "data": {
      "image/png": "[encoded data removed]",
      "text/plain": [
       "<Figure size 360x360 with 1 Axes>"
      ]
     },
     "metadata": {
      "needs_background": "light"
     },
     "output_type": "display_data"
    }
   ],
   "source": [
    "sns.relplot(x=\"newspaper\",y=\"radio\",data=channel_ds)"
   ]
  },
  {
   "cell_type": "code",
   "execution_count": 35,
   "id": "6cd15bc4",
   "metadata": {},
   "outputs": [
    {
     "data": {
      "text/plain": [
       "<AxesSubplot:xlabel='newspaper', ylabel='Count'>"
      ]
     },
     "execution_count": 35,
     "metadata": {},
     "output_type": "execute_result"
    },
    {
     "data": {
      "image/png": "[encoded data removed]",
      "text/plain": [
       "<Figure size 432x288 with 1 Axes>"
      ]
     },
     "metadata": {
      "needs_background": "light"
     },
     "output_type": "display_data"
    }
   ],
   "source": [
    "sns.histplot(x=\"newspaper\",data=channel_ds)"
   ]
  },
  {
   "cell_type": "markdown",
   "id": "b34fa029",
   "metadata": {},
   "source": [
    "Observation:\n",
    "    \n",
    "data of newspaper are not normally distributed."
   ]
  },
  {
   "cell_type": "code",
   "execution_count": 36,
   "id": "58e2b17b",
   "metadata": {},
   "outputs": [
    {
     "data": {
      "text/plain": [
       "<seaborn.axisgrid.PairGrid at 0x25a5d52ea30>"
      ]
     },
     "execution_count": 36,
     "metadata": {},
     "output_type": "execute_result"
    },
    {
     "data": {
      "image/png": "[encoded data removed]",
      "text/plain": [
       "<Figure size 720x720 with 20 Axes>"
      ]
     },
     "metadata": {
      "needs_background": "light"
     },
     "output_type": "display_data"
    }
   ],
   "source": [
    "sns.pairplot(channel_ds)"
   ]
  },
  {
   "cell_type": "markdown",
   "id": "b38a21bd",
   "metadata": {},
   "source": [
    "Observation:\n",
    "    \n",
    "skewness is present in newspaper."
   ]
  },
  {
   "cell_type": "markdown",
   "id": "068a826d",
   "metadata": {},
   "source": [
    "# Checking the skewness"
   ]
  },
  {
   "cell_type": "code",
   "execution_count": 37,
   "id": "3a877dd0",
   "metadata": {},
   "outputs": [
    {
     "data": {
      "text/plain": [
       "TV          -0.069853\n",
       "radio        0.094175\n",
       "newspaper    0.894720\n",
       "sales        0.407571\n",
       "dtype: float64"
      ]
     },
     "execution_count": 37,
     "metadata": {},
     "output_type": "execute_result"
    }
   ],
   "source": [
    "channel_ds.skew()"
   ]
  },
  {
   "cell_type": "markdown",
   "id": "821385a4",
   "metadata": {},
   "source": [
    "Observation:\n",
    "    \n",
    "skewness present in newspaper."
   ]
  },
  {
   "cell_type": "code",
   "execution_count": 38,
   "id": "1223d598",
   "metadata": {},
   "outputs": [
    {
     "data": {
      "text/plain": [
       "<AxesSubplot:xlabel='TV', ylabel='Density'>"
      ]
     },
     "execution_count": 38,
     "metadata": {},
     "output_type": "execute_result"
    },
    {
     "data": {
      "image/png": "[encoded data removed]",
      "text/plain": [
       "<Figure size 432x288 with 1 Axes>"
      ]
     },
     "metadata": {
      "needs_background": "light"
     },
     "output_type": "display_data"
    }
   ],
   "source": [
    "sns.distplot(channel_ds[\"TV\"])"
   ]
  },
  {
   "cell_type": "markdown",
   "id": "bcd0b949",
   "metadata": {},
   "source": [
    "Observation:\n",
    "    \n",
    "skewness is not present in TV column."
   ]
  },
  {
   "cell_type": "code",
   "execution_count": 39,
   "id": "a2043124",
   "metadata": {},
   "outputs": [
    {
     "data": {
      "text/plain": [
       "<AxesSubplot:xlabel='radio', ylabel='Density'>"
      ]
     },
     "execution_count": 39,
     "metadata": {},
     "output_type": "execute_result"
    },
    {
     "data": {
      "image/png": "[encoded data removed]",
      "text/plain": [
       "<Figure size 432x288 with 1 Axes>"
      ]
     },
     "metadata": {
      "needs_background": "light"
     },
     "output_type": "display_data"
    }
   ],
   "source": [
    "sns.distplot(channel_ds['radio'])"
   ]
  },
  {
   "cell_type": "markdown",
   "id": "bc98f023",
   "metadata": {},
   "source": [
    "Obseration:\n",
    "    \n",
    "skewness is not present in radio column."
   ]
  },
  {
   "cell_type": "code",
   "execution_count": 40,
   "id": "67ac30fe",
   "metadata": {},
   "outputs": [
    {
     "data": {
      "text/plain": [
       "<AxesSubplot:xlabel='newspaper', ylabel='Density'>"
      ]
     },
     "execution_count": 40,
     "metadata": {},
     "output_type": "execute_result"
    },
    {
     "data": {
      "image/png": "[encoded data removed]",
      "text/plain": [
       "<Figure size 432x288 with 1 Axes>"
      ]
     },
     "metadata": {
      "needs_background": "light"
     },
     "output_type": "display_data"
    }
   ],
   "source": [
    "sns.distplot(channel_ds[\"newspaper\"])"
   ]
  },
  {
   "cell_type": "markdown",
   "id": "06b7a0f2",
   "metadata": {},
   "source": [
    "Observation:\n",
    "    \n",
    "less skewness present in newspaper column."
   ]
  },
  {
   "cell_type": "markdown",
   "id": "a50138d3",
   "metadata": {},
   "source": [
    "# Removing the skewness"
   ]
  },
  {
   "cell_type": "code",
   "execution_count": 41,
   "id": "f1fd8e2c",
   "metadata": {},
   "outputs": [],
   "source": [
    "from sklearn.preprocessing import power_transform , PowerTransformer"
   ]
  },
  {
   "cell_type": "code",
   "execution_count": 42,
   "id": "746d073d",
   "metadata": {},
   "outputs": [
    {
     "data": {
      "text/html": [
       "<div>\n",
       "<style scoped>\n",
       "    .dataframe tbody tr th:only-of-type {\n",
       "        vertical-align: middle;\n",
       "    }\n",
       "\n",
       "    .dataframe tbody tr th {\n",
       "        vertical-align: top;\n",
       "    }\n",
       "\n",
       "    .dataframe thead th {\n",
       "        text-align: right;\n",
       "    }\n",
       "</style>\n",
       "<table border=\"1\" class=\"dataframe\">\n",
       "  <thead>\n",
       "    <tr style=\"text-align: right;\">\n",
       "      <th></th>\n",
       "      <th>TV</th>\n",
       "      <th>radio</th>\n",
       "      <th>newspaper</th>\n",
       "      <th>sales</th>\n",
       "    </tr>\n",
       "  </thead>\n",
       "  <tbody>\n",
       "    <tr>\n",
       "      <th>86</th>\n",
       "      <td>76.3</td>\n",
       "      <td>27.5</td>\n",
       "      <td>16.0</td>\n",
       "      <td>12.0</td>\n",
       "    </tr>\n",
       "    <tr>\n",
       "      <th>23</th>\n",
       "      <td>228.3</td>\n",
       "      <td>16.9</td>\n",
       "      <td>26.2</td>\n",
       "      <td>15.5</td>\n",
       "    </tr>\n",
       "    <tr>\n",
       "      <th>17</th>\n",
       "      <td>281.4</td>\n",
       "      <td>39.6</td>\n",
       "      <td>55.8</td>\n",
       "      <td>24.4</td>\n",
       "    </tr>\n",
       "  </tbody>\n",
       "</table>\n",
       "</div>"
      ],
      "text/plain": [
       "       TV  radio  newspaper  sales\n",
       "86   76.3   27.5       16.0   12.0\n",
       "23  228.3   16.9       26.2   15.5\n",
       "17  281.4   39.6       55.8   24.4"
      ]
     },
     "execution_count": 42,
     "metadata": {},
     "output_type": "execute_result"
    }
   ],
   "source": [
    "channel_ds.sample(3)"
   ]
  },
  {
   "cell_type": "markdown",
   "id": "2189350b",
   "metadata": {},
   "source": [
    "spliting the x and y"
   ]
  },
  {
   "cell_type": "code",
   "execution_count": 43,
   "id": "20ff7c59",
   "metadata": {},
   "outputs": [
    {
     "data": {
      "text/html": [
       "<div>\n",
       "<style scoped>\n",
       "    .dataframe tbody tr th:only-of-type {\n",
       "        vertical-align: middle;\n",
       "    }\n",
       "\n",
       "    .dataframe tbody tr th {\n",
       "        vertical-align: top;\n",
       "    }\n",
       "\n",
       "    .dataframe thead th {\n",
       "        text-align: right;\n",
       "    }\n",
       "</style>\n",
       "<table border=\"1\" class=\"dataframe\">\n",
       "  <thead>\n",
       "    <tr style=\"text-align: right;\">\n",
       "      <th></th>\n",
       "      <th>TV</th>\n",
       "      <th>radio</th>\n",
       "      <th>newspaper</th>\n",
       "    </tr>\n",
       "  </thead>\n",
       "  <tbody>\n",
       "    <tr>\n",
       "      <th>0</th>\n",
       "      <td>230.1</td>\n",
       "      <td>37.8</td>\n",
       "      <td>69.2</td>\n",
       "    </tr>\n",
       "    <tr>\n",
       "      <th>1</th>\n",
       "      <td>44.5</td>\n",
       "      <td>39.3</td>\n",
       "      <td>45.1</td>\n",
       "    </tr>\n",
       "    <tr>\n",
       "      <th>2</th>\n",
       "      <td>17.2</td>\n",
       "      <td>45.9</td>\n",
       "      <td>69.3</td>\n",
       "    </tr>\n",
       "    <tr>\n",
       "      <th>3</th>\n",
       "      <td>151.5</td>\n",
       "      <td>41.3</td>\n",
       "      <td>58.5</td>\n",
       "    </tr>\n",
       "    <tr>\n",
       "      <th>4</th>\n",
       "      <td>180.8</td>\n",
       "      <td>10.8</td>\n",
       "      <td>58.4</td>\n",
       "    </tr>\n",
       "    <tr>\n",
       "      <th>...</th>\n",
       "      <td>...</td>\n",
       "      <td>...</td>\n",
       "      <td>...</td>\n",
       "    </tr>\n",
       "    <tr>\n",
       "      <th>195</th>\n",
       "      <td>38.2</td>\n",
       "      <td>3.7</td>\n",
       "      <td>13.8</td>\n",
       "    </tr>\n",
       "    <tr>\n",
       "      <th>196</th>\n",
       "      <td>94.2</td>\n",
       "      <td>4.9</td>\n",
       "      <td>8.1</td>\n",
       "    </tr>\n",
       "    <tr>\n",
       "      <th>197</th>\n",
       "      <td>177.0</td>\n",
       "      <td>9.3</td>\n",
       "      <td>6.4</td>\n",
       "    </tr>\n",
       "    <tr>\n",
       "      <th>198</th>\n",
       "      <td>283.6</td>\n",
       "      <td>42.0</td>\n",
       "      <td>66.2</td>\n",
       "    </tr>\n",
       "    <tr>\n",
       "      <th>199</th>\n",
       "      <td>232.1</td>\n",
       "      <td>8.6</td>\n",
       "      <td>8.7</td>\n",
       "    </tr>\n",
       "  </tbody>\n",
       "</table>\n",
       "<p>200 rows × 3 columns</p>\n",
       "</div>"
      ],
      "text/plain": [
       "        TV  radio  newspaper\n",
       "0    230.1   37.8       69.2\n",
       "1     44.5   39.3       45.1\n",
       "2     17.2   45.9       69.3\n",
       "3    151.5   41.3       58.5\n",
       "4    180.8   10.8       58.4\n",
       "..     ...    ...        ...\n",
       "195   38.2    3.7       13.8\n",
       "196   94.2    4.9        8.1\n",
       "197  177.0    9.3        6.4\n",
       "198  283.6   42.0       66.2\n",
       "199  232.1    8.6        8.7\n",
       "\n",
       "[200 rows x 3 columns]"
      ]
     },
     "execution_count": 43,
     "metadata": {},
     "output_type": "execute_result"
    }
   ],
   "source": [
    "x=channel_ds.iloc[:,0:-1]\n",
    "x"
   ]
  },
  {
   "cell_type": "code",
   "execution_count": 44,
   "id": "2a7b3e04",
   "metadata": {},
   "outputs": [
    {
     "data": {
      "text/plain": [
       "0      22.1\n",
       "1      10.4\n",
       "2       9.3\n",
       "3      18.5\n",
       "4      12.9\n",
       "       ... \n",
       "195     7.6\n",
       "196     9.7\n",
       "197    12.8\n",
       "198    25.5\n",
       "199    13.4\n",
       "Name: sales, Length: 200, dtype: float64"
      ]
     },
     "execution_count": 44,
     "metadata": {},
     "output_type": "execute_result"
    }
   ],
   "source": [
    "y=channel_ds.iloc[:,-1]\n",
    "y"
   ]
  },
  {
   "cell_type": "code",
   "execution_count": 45,
   "id": "725245ef",
   "metadata": {},
   "outputs": [
    {
     "data": {
      "text/plain": [
       "PowerTransformer()"
      ]
     },
     "execution_count": 45,
     "metadata": {},
     "output_type": "execute_result"
    }
   ],
   "source": [
    "PowerTransformer()"
   ]
  },
  {
   "cell_type": "code",
   "execution_count": 46,
   "id": "7a5db00c",
   "metadata": {},
   "outputs": [
    {
     "name": "stdout",
     "output_type": "stream",
     "text": [
      "[[ 0.94867429  0.96224689  1.51433531]\n",
      " [-1.19131426  1.0401788   0.78768252]\n",
      " [-1.6477566   1.37070964  1.51699753]\n",
      " [ 0.14102023  1.14238689  1.21465643]\n",
      " [ 0.45271493 -0.74865064  1.21170398]\n",
      " [-1.82382233  1.51501853  1.66502354]\n",
      " [-1.00249116  0.69372704 -0.1077535 ]\n",
      " [-0.210275   -0.10158544 -0.84409341]\n",
      " [-1.82609501 -1.63345378 -2.13259669]\n",
      " [ 0.64764492 -1.56676988 -0.22900395]\n",
      " [-0.88377378 -1.20298758 -0.07226156]\n",
      " [ 0.79708355  0.18072579 -1.60261898]\n",
      " [-1.52641627  0.81900563  1.42512925]\n",
      " [-0.48036844 -1.02813642 -1.22982506]\n",
      " [ 0.69106577  0.6992403   0.81860579]\n",
      " [ 0.60295713  1.45770359  1.04432344]\n",
      " [-0.86079972  0.89906999  2.52943514]\n",
      " [ 1.4355201   1.05563142  1.13383286]\n",
      " [-0.84199328 -0.04209908 -0.39356015]\n",
      " [ 0.09508551  0.17453165 -0.34671544]\n",
      " [ 0.8337607   0.40367061  1.05996548]\n",
      " [ 1.01958629 -1.27567304 -0.1077535 ]\n",
      " [-1.72701642 -0.35739289  0.93875739]\n",
      " [ 0.93109798 -0.28631129  0.02589311]\n",
      " [-0.93569772 -0.60431061 -0.39356015]\n",
      " [ 1.26290943 -1.4550585  -0.3237259 ]\n",
      " [ 0.04659013  0.49664406 -0.76867281]\n",
      " [ 1.0456669  -0.30040383 -0.1386789 ]\n",
      " [ 1.12918152  0.3682981  -0.1386789 ]\n",
      " [-0.82328646 -0.35021379  0.63452018]\n",
      " [ 1.54129731  0.43876195  0.72114861]\n",
      " [-0.29553337 -0.25134036  0.55235877]\n",
      " [-0.48404243 -1.71918898  0.20071936]\n",
      " [ 1.28829734 -0.07502706 -2.32472495]\n",
      " [-0.50245749 -1.7342107  -1.20981332]\n",
      " [ 1.52114819 -1.3853128  -1.10471076]\n",
      " [ 1.3004967   1.2675887  -1.47330873]\n",
      " [-0.76905257  1.53874417  0.80833914]\n",
      " [-1.21245403  0.34455612  0.4155984 ]\n",
      " [ 0.92816503  0.95701091  0.28742321]\n",
      " [ 0.67493776  0.07409584  0.27034854]\n",
      " [ 0.41309098  0.72671408  0.55615392]\n",
      " [ 1.54769995  0.40367061 -1.95904851]\n",
      " [ 0.71920943 -0.95499286  0.03545918]\n",
      " [-1.50359538  0.28462118  0.72469411]\n",
      " [ 0.39319467  0.08679116  0.26605961]\n",
      " [-0.57689562 -0.82396106  0.43960934]\n",
      " [ 1.04373768  1.15250515 -0.3817378 ]\n",
      " [ 0.92033882 -0.36458821  0.94852755]\n",
      " [-0.87294338 -0.67550361  0.48300508]\n",
      " [ 0.64764492 -1.50354208  0.3953996 ]\n",
      " [-0.44500506 -0.84958728 -1.65883577]\n",
      " [ 0.81395585  1.16260524  0.59004665]\n",
      " [ 0.47140703  1.38529598  1.22055211]\n",
      " [ 1.2610261   0.46779569 -0.54176985]\n",
      " [ 0.63852563  1.53874417  1.25857888]\n",
      " [-1.85624738  0.42709558  0.65646046]\n",
      " [-0.02802214 -0.12834141 -0.49726342]\n",
      " [ 0.75824197  1.54820925  0.51793191]\n",
      " [ 0.75724354  0.50813245 -1.03293213]\n",
      " [-1.05927427 -1.64727037 -0.21815975]\n",
      " [ 1.24783212  1.21283741  1.10022212]\n",
      " [ 1.03794746 -0.38627294  0.07797929]\n",
      " [-0.41714955  0.51386586 -1.11394312]\n",
      " [-0.08546826  1.21783637  0.15154706]\n",
      " [-0.84467375 -0.87549189 -2.1571572 ]\n",
      " [-1.39531449  0.21769395 -1.88378271]\n",
      " [ 0.0066178  -0.45966823 -0.95619942]\n",
      " [ 1.01958629  0.39191142 -0.8911416 ]\n",
      " [ 0.81792069  1.2725405   0.07329661]\n",
      " [ 0.64055308  0.5708121   0.55615392]\n",
      " [-0.3321763  -0.4745618   0.27462933]\n",
      " [-1.47420382  0.70474737 -0.33518557]\n",
      " [-0.10474749 -1.21318999  0.25745713]\n",
      " [ 0.7841573   0.21769395 -0.73224866]\n",
      " [-1.65352738  1.26263268  2.01064695]\n",
      " [-1.46224158 -1.70439494 -0.25638211]\n",
      " [-0.20680098  0.45039797 -0.65484297]\n",
      " [-1.90271957  0.53102334 -1.02420602]\n",
      " [-0.25915513 -1.01885558 -0.1283175 ]\n",
      " [-0.74679627  0.34455612 -0.17008941]\n",
      " [ 1.04277291 -1.3853128   0.48691113]\n",
      " [-0.76118235 -0.05523482  0.30858709]\n",
      " [-0.85272745  1.30216339  0.43562451]\n",
      " [ 0.78515237  1.22782124  0.36271243]\n",
      " [ 0.58051341 -0.1824681   1.41963599]\n",
      " [-0.74810183  0.39191142 -0.53534269]\n",
      " [-0.32151022  1.10682827  1.35009138]\n",
      " [-0.59445094  0.27253204  1.62418784]\n",
      " [-0.3321763   1.46250027  0.99685054]\n",
      " [-0.04935604 -1.29701657 -1.03293213]\n",
      " [-1.44360046 -1.71918898  0.32955606]\n",
      " [ 0.8268345   0.7321905   1.22937273]\n",
      " [ 1.14922339  0.89377076  1.59579653]\n",
      " [-0.36073275 -0.49704225 -0.89912378]\n",
      " [ 0.26831445  0.62707446  1.04432344]\n",
      " [ 0.62533398 -1.4550585  -1.3679351 ]\n",
      " [ 0.49522053 -0.00946213 -0.18598289]\n",
      " [ 1.51197614  1.19279775  0.99045745]\n",
      " [-0.03924063  1.16260524  0.8151881 ]\n",
      " [ 0.87322688 -1.36277082  0.94527481]\n",
      " [ 1.57327016  0.88315609  2.2628248 ]\n",
      " [ 1.42441703 -0.80702634 -0.21815975]\n",
      " [ 0.52616407 -0.26528466 -0.41743473]\n",
      " [ 1.02732204  0.77578583 -1.4371576 ]\n",
      " [-0.00900053  1.39500055  1.22937273]\n",
      " [-1.50533991 -0.73221674  0.18741746]\n",
      " [-0.56814506 -1.91962741 -0.12315678]\n",
      " [-1.72906885 -1.90076688 -0.00306944]\n",
      " [ 1.19202117  0.35644335 -1.41364623]\n",
      " [ 0.90662534 -0.97304835  1.15501188]\n",
      " [ 1.06108536  0.97270342 -0.12315678]\n",
      " [ 0.39948386 -0.39353456 -1.84832983]\n",
      " [ 0.74625251 -0.0355487  -0.91521378]\n",
      " [-0.72337219  1.41436293  0.39133878]\n",
      " [-0.76380392  0.81362329  1.03804144]\n",
      " [ 0.00550359 -0.4745618  -0.00306944]\n",
      " [-0.74679627 -1.82997283 -0.6140794 ]\n",
      " [-0.1469415   0.91493549  1.76974284]\n",
      " [-1.60617806 -0.35021379 -0.17008941]\n",
      " [ 0.02885793  0.35050382  0.82542768]\n",
      " [-1.61739376  0.0357579   0.96473213]\n",
      " [ 0.88896054 -1.59299019 -0.56119394]\n",
      " [-0.17678774  0.79203663 -0.78347482]\n",
      " [ 0.94281959  0.66606674  1.64467302]\n",
      " [-0.60829585 -0.66750027  0.01146189]\n",
      " [-1.84451116  1.01950683  0.9711866 ]\n",
      " [-0.69751107 -1.9798635  -1.04171092]\n",
      " [ 0.85253082  1.51977089 -1.71817136]\n",
      " [-0.9730961  -0.65156482  0.71759813]\n",
      " [-2.04026249  1.05563142 -1.08642518]\n",
      " [ 1.2845405  -1.52845902  0.71404265]\n",
      " [-1.83065941  0.37421339 -1.90202575]\n",
      " [ 0.84759549  0.7321905   0.78768252]\n",
      " [-1.30833884  1.0039509   1.41688552]\n",
      " [-1.1347862   1.42402092 -1.10471076]\n",
      " [-1.49489926  1.02468221 -1.03293213]\n",
      " [ 1.36405418  0.47358005  1.2498484 ]\n",
      " [-1.2139708   0.2966758  -0.26744284]\n",
      " [ 0.49522053  1.2725405  -1.97889407]\n",
      " [-0.78616198 -0.27928757 -0.74672069]\n",
      " [ 0.58562018  0.83511859  1.68019945]\n",
      " [ 0.85450412  0.71574298  0.52562487]\n",
      " [-0.39426242 -1.21318999  0.38727085]\n",
      " [-0.49631074 -0.43746469  0.56372647]\n",
      " [ 0.01774834 -1.66126392 -1.05942991]\n",
      " [ 1.0456669  -1.05622936 -1.08642518]\n",
      " [ 1.07551559  1.51977089  0.75987942]\n",
      " [-1.29103896  1.09151903 -0.82108927]\n",
      " [-1.18830853  0.29065278 -0.26190454]\n",
      " [ 1.42904484 -0.50457379  0.49081078]\n",
      " [-0.20101603 -0.95499286  0.90922967]\n",
      " [ 0.62533398  0.13716541 -0.65484297]\n",
      " [ 0.35322947  1.0607726   0.51793191]\n",
      " [ 0.52513474 -0.00296885 -1.01553176]\n",
      " [-1.93665721 -0.68353104 -1.39057916]\n",
      " [-0.52465633  1.25270792  0.96796131]\n",
      " [ 0.12246872 -1.74947332 -0.06724139]\n",
      " [-1.75822712  0.91493549  0.79113681]\n",
      " [-0.07867963 -0.1824681   0.3953996 ]\n",
      " [ 0.36587519 -0.20298441  0.23144984]\n",
      " [-0.62724967  0.85652391  0.92895126]\n",
      " [ 0.53130856 -0.20298441 -0.00306944]\n",
      " [ 0.27045056  0.90965233 -1.20981332]\n",
      " [-0.24514238 -0.44484785 -1.42534498]\n",
      " [ 0.99148599 -1.46701964  1.90420913]\n",
      " [-1.63438885  0.95176976 -0.20737541]\n",
      " [ 0.71820605 -1.26510158 -0.32944703]\n",
      " [ 0.80403524  0.15589202  1.18797267]\n",
      " [ 1.46230082 -0.76519122 -1.31304986]\n",
      " [-1.10987617 -0.68353104 -0.38763953]\n",
      " [ 0.28112073 -0.01596668  0.86598739]\n",
      " [-1.60245911 -0.06841773 -0.47232241]\n",
      " [ 0.32257166 -1.07517365 -0.75400514]\n",
      " [ 0.87322688 -1.46701964 -0.73224866]\n",
      " [ 1.39381826  1.51501853  0.67098058]\n",
      " [ 1.12535894  0.54811736 -0.27856754]\n",
      " [ 0.34161695 -1.00961537  0.41961731]\n",
      " [ 1.39196069 -1.60632069 -0.09754949]\n",
      " [ 0.29283811 -0.81547901 -0.43554699]\n",
      " [ 0.19634785 -1.56676988 -1.12323656]\n",
      " [ 0.83474968 -1.2441519   0.08265171]\n",
      " [-1.02082882 -1.21318999  0.18741746]\n",
      " [ 1.49268741  1.22782124  1.58280405]\n",
      " [ 1.17682728  0.00998415  0.20071936]\n",
      " [ 0.70012304  1.33163754 -0.31802204]\n",
      " [ 0.0088456  -1.63345378  0.04498207]\n",
      " [ 0.55902662  0.46200391 -0.39949982]\n",
      " [ 1.47796614 -0.50457379 -1.64450612]\n",
      " [-1.61927178 -0.64363221 -0.11287487]\n",
      " [-1.267656    1.13225036 -1.37920552]\n",
      " [-0.75856261 -0.74865064 -1.35676548]\n",
      " [-1.6477566  -1.3853128   0.27034854]\n",
      " [ 0.30559723  1.1777216  -1.65883577]\n",
      " [ 0.12137572  0.84583242 -1.35676548]\n",
      " [-1.28790757 -1.43143631 -0.68257581]\n",
      " [-0.52094879 -1.29701657 -1.14201102]\n",
      " [ 0.41309098 -0.87549189 -1.31304986]\n",
      " [ 1.45584317  1.1777216   1.43335009]\n",
      " [ 0.96816082 -0.93708342 -1.08642518]]\n"
     ]
    }
   ],
   "source": [
    "new_x=power_transform(x)\n",
    "print(new_x)"
   ]
  },
  {
   "cell_type": "code",
   "execution_count": 47,
   "id": "d44d266c",
   "metadata": {},
   "outputs": [],
   "source": [
    "x=pd.DataFrame(new_x,columns=x.columns).skew()"
   ]
  },
  {
   "cell_type": "code",
   "execution_count": 48,
   "id": "4805963c",
   "metadata": {},
   "outputs": [
    {
     "data": {
      "text/plain": [
       "TV          -0.315199\n",
       "radio       -0.242968\n",
       "newspaper   -0.077942\n",
       "dtype: float64"
      ]
     },
     "execution_count": 48,
     "metadata": {},
     "output_type": "execute_result"
    }
   ],
   "source": [
    "x"
   ]
  },
  {
   "cell_type": "markdown",
   "id": "8508fd29",
   "metadata": {},
   "source": [
    "Observation:\n",
    "    \n",
    "Now Skewness has been removed."
   ]
  },
  {
   "cell_type": "markdown",
   "id": "2a41f97e",
   "metadata": {},
   "source": [
    "# Checking Outliers"
   ]
  },
  {
   "cell_type": "code",
   "execution_count": 49,
   "id": "78542159",
   "metadata": {},
   "outputs": [
    {
     "data": {
      "text/plain": [
       "<AxesSubplot:xlabel='TV'>"
      ]
     },
     "execution_count": 49,
     "metadata": {},
     "output_type": "execute_result"
    },
    {
     "data": {
      "image/png": "[encoded data removed]",
      "text/plain": [
       "<Figure size 432x288 with 1 Axes>"
      ]
     },
     "metadata": {
      "needs_background": "light"
     },
     "output_type": "display_data"
    }
   ],
   "source": [
    "sns.boxplot(channel_ds[\"TV\"])"
   ]
  },
  {
   "cell_type": "markdown",
   "id": "5b1af218",
   "metadata": {},
   "source": [
    "Observation:\n",
    "    \n",
    "No outliers in Tv column."
   ]
  },
  {
   "cell_type": "code",
   "execution_count": 50,
   "id": "4128a547",
   "metadata": {},
   "outputs": [
    {
     "data": {
      "text/plain": [
       "<AxesSubplot:xlabel='radio'>"
      ]
     },
     "execution_count": 50,
     "metadata": {},
     "output_type": "execute_result"
    },
    {
     "data": {
      "image/png": "[encoded data removed]",
      "text/plain": [
       "<Figure size 432x288 with 1 Axes>"
      ]
     },
     "metadata": {
      "needs_background": "light"
     },
     "output_type": "display_data"
    }
   ],
   "source": [
    "sns.boxplot(channel_ds[\"radio\"])"
   ]
  },
  {
   "cell_type": "markdown",
   "id": "1845e6c0",
   "metadata": {},
   "source": [
    "Observation:\n",
    "    \n",
    "No outliers in radio."
   ]
  },
  {
   "cell_type": "code",
   "execution_count": 51,
   "id": "3c1cda29",
   "metadata": {},
   "outputs": [
    {
     "data": {
      "text/plain": [
       "<AxesSubplot:xlabel='newspaper'>"
      ]
     },
     "execution_count": 51,
     "metadata": {},
     "output_type": "execute_result"
    },
    {
     "data": {
      "image/png": "[encoded data removed]",
      "text/plain": [
       "<Figure size 432x288 with 1 Axes>"
      ]
     },
     "metadata": {
      "needs_background": "light"
     },
     "output_type": "display_data"
    }
   ],
   "source": [
    "sns.boxplot(channel_ds[\"newspaper\"])"
   ]
  },
  {
   "cell_type": "markdown",
   "id": "0510b681",
   "metadata": {},
   "source": [
    "Obseration:\n",
    "    \n",
    "some outliers present in newspaper."
   ]
  },
  {
   "cell_type": "markdown",
   "id": "20952f43",
   "metadata": {},
   "source": [
    "# Removing Outliers"
   ]
  },
  {
   "cell_type": "code",
   "execution_count": 52,
   "id": "ffd1ab22",
   "metadata": {},
   "outputs": [],
   "source": [
    "from scipy.stats import zscore"
   ]
  },
  {
   "cell_type": "code",
   "execution_count": 53,
   "id": "c26a56f6",
   "metadata": {},
   "outputs": [],
   "source": [
    "N_ds=np.array(channel_ds)"
   ]
  },
  {
   "cell_type": "code",
   "execution_count": 54,
   "id": "b0a70969",
   "metadata": {},
   "outputs": [
    {
     "data": {
      "text/plain": [
       "array([[230.1,  37.8,  69.2,  22.1],\n",
       "       [ 44.5,  39.3,  45.1,  10.4],\n",
       "       [ 17.2,  45.9,  69.3,   9.3],\n",
       "       [151.5,  41.3,  58.5,  18.5],\n",
       "       [180.8,  10.8,  58.4,  12.9],\n",
       "       [  8.7,  48.9,  75. ,   7.2],\n",
       "       [ 57.5,  32.8,  23.5,  11.8],\n",
       "       [120.2,  19.6,  11.6,  13.2],\n",
       "       [  8.6,   2.1,   1. ,   4.8],\n",
       "       [199.8,   2.6,  21.2,  10.6],\n",
       "       [ 66.1,   5.8,  24.2,   8.6],\n",
       "       [214.7,  24. ,   4. ,  17.4],\n",
       "       [ 23.8,  35.1,  65.9,   9.2],\n",
       "       [ 97.5,   7.6,   7.2,   9.7],\n",
       "       [204.1,  32.9,  46. ,  19. ],\n",
       "       [195.4,  47.7,  52.9,  22.4],\n",
       "       [ 67.8,  36.6, 114. ,  12.5],\n",
       "       [281.4,  39.6,  55.8,  24.4],\n",
       "       [ 69.2,  20.5,  18.3,  11.3],\n",
       "       [147.3,  23.9,  19.1,  14.6],\n",
       "       [218.4,  27.7,  53.4,  18. ],\n",
       "       [237.4,   5.1,  23.5,  12.5],\n",
       "       [ 13.2,  15.9,  49.6,   5.6],\n",
       "       [228.3,  16.9,  26.2,  15.5],\n",
       "       [ 62.3,  12.6,  18.3,   9.7],\n",
       "       [262.9,   3.5,  19.5,  12. ],\n",
       "       [142.9,  29.3,  12.6,  15. ],\n",
       "       [240.1,  16.7,  22.9,  15.9],\n",
       "       [248.8,  27.1,  22.9,  18.9],\n",
       "       [ 70.6,  16. ,  40.8,  10.5],\n",
       "       [292.9,  28.3,  43.2,  21.4],\n",
       "       [112.9,  17.4,  38.6,  11.9],\n",
       "       [ 97.2,   1.5,  30. ,   9.6],\n",
       "       [265.6,  20. ,   0.3,  17.4],\n",
       "       [ 95.7,   1.4,   7.4,   9.5],\n",
       "       [290.7,   4.1,   8.5,  12.8],\n",
       "       [266.9,  43.8,   5. ,  25.4],\n",
       "       [ 74.7,  49.4,  45.7,  14.7],\n",
       "       [ 43.1,  26.7,  35.1,  10.1],\n",
       "       [228. ,  37.7,  32. ,  21.5],\n",
       "       [202.5,  22.3,  31.6,  16.6],\n",
       "       [177. ,  33.4,  38.7,  17.1],\n",
       "       [293.6,  27.7,   1.8,  20.7],\n",
       "       [206.9,   8.4,  26.4,  12.9],\n",
       "       [ 25.1,  25.7,  43.3,   8.5],\n",
       "       [175.1,  22.5,  31.5,  14.9],\n",
       "       [ 89.7,   9.9,  35.7,  10.6],\n",
       "       [239.9,  41.5,  18.5,  23.2],\n",
       "       [227.2,  15.8,  49.9,  14.8],\n",
       "       [ 66.9,  11.7,  36.8,   9.7],\n",
       "       [199.8,   3.1,  34.6,  11.4],\n",
       "       [100.4,   9.6,   3.6,  10.7],\n",
       "       [216.4,  41.7,  39.6,  22.6],\n",
       "       [182.6,  46.2,  58.7,  21.2],\n",
       "       [262.7,  28.8,  15.9,  20.2],\n",
       "       [198.9,  49.4,  60. ,  23.7],\n",
       "       [  7.3,  28.1,  41.4,   5.5],\n",
       "       [136.2,  19.2,  16.6,  13.2],\n",
       "       [210.8,  49.6,  37.7,  23.8],\n",
       "       [210.7,  29.5,   9.3,  18.4],\n",
       "       [ 53.5,   2. ,  21.4,   8.1],\n",
       "       [261.3,  42.7,  54.7,  24.2],\n",
       "       [239.3,  15.5,  27.3,  15.7],\n",
       "       [102.7,  29.6,   8.4,  14. ],\n",
       "       [131.1,  42.8,  28.9,  18. ],\n",
       "       [ 69. ,   9.3,   0.9,   9.3],\n",
       "       [ 31.5,  24.6,   2.2,   9.5],\n",
       "       [139.3,  14.5,  10.2,  13.4],\n",
       "       [237.4,  27.5,  11. ,  18.9],\n",
       "       [216.8,  43.9,  27.2,  22.3],\n",
       "       [199.1,  30.6,  38.7,  18.3],\n",
       "       [109.8,  14.3,  31.7,  12.4],\n",
       "       [ 26.8,  33. ,  19.3,   8.8],\n",
       "       [129.4,   5.7,  31.3,  11. ],\n",
       "       [213.4,  24.6,  13.1,  17. ],\n",
       "       [ 16.9,  43.7,  89.4,   8.7],\n",
       "       [ 27.5,   1.6,  20.7,   6.9],\n",
       "       [120.5,  28.5,  14.2,  14.2],\n",
       "       [  5.4,  29.9,   9.4,   5.3],\n",
       "       [116. ,   7.7,  23.1,  11. ],\n",
       "       [ 76.4,  26.7,  22.3,  11.8],\n",
       "       [239.8,   4.1,  36.9,  12.3],\n",
       "       [ 75.3,  20.3,  32.5,  11.3],\n",
       "       [ 68.4,  44.5,  35.6,  13.6],\n",
       "       [213.5,  43. ,  33.8,  21.7],\n",
       "       [193.2,  18.4,  65.7,  15.2],\n",
       "       [ 76.3,  27.5,  16. ,  12. ],\n",
       "       [110.7,  40.6,  63.2,  16. ],\n",
       "       [ 88.3,  25.5,  73.4,  12.9],\n",
       "       [109.8,  47.8,  51.4,  16.7],\n",
       "       [134.3,   4.9,   9.3,  11.2],\n",
       "       [ 28.6,   1.5,  33. ,   7.3],\n",
       "       [217.7,  33.5,  59. ,  19.4],\n",
       "       [250.9,  36.5,  72.3,  22.2],\n",
       "       [107.4,  14. ,  10.9,  11.5],\n",
       "       [163.3,  31.6,  52.9,  16.9],\n",
       "       [197.6,   3.5,   5.9,  11.7],\n",
       "       [184.9,  21. ,  22. ,  15.5],\n",
       "       [289.7,  42.3,  51.2,  25.4],\n",
       "       [135.2,  41.7,  45.9,  17.2],\n",
       "       [222.4,   4.3,  49.8,  11.7],\n",
       "       [296.4,  36.3, 100.9,  23.8],\n",
       "       [280.2,  10.1,  21.4,  14.8],\n",
       "       [187.9,  17.2,  17.9,  14.7],\n",
       "       [238.2,  34.3,   5.3,  20.7],\n",
       "       [137.9,  46.4,  59. ,  19.2],\n",
       "       [ 25. ,  11. ,  29.7,   7.2],\n",
       "       [ 90.4,   0.3,  23.2,   8.7],\n",
       "       [ 13.1,   0.4,  25.6,   5.3],\n",
       "       [255.4,  26.9,   5.5,  19.8],\n",
       "       [225.8,   8.2,  56.5,  13.4],\n",
       "       [241.7,  38. ,  23.2,  21.8],\n",
       "       [175.7,  15.4,   2.4,  14.1],\n",
       "       [209.6,  20.6,  10.7,  15.9],\n",
       "       [ 78.2,  46.8,  34.5,  14.6],\n",
       "       [ 75.1,  35. ,  52.7,  12.6],\n",
       "       [139.2,  14.3,  25.6,  12.2],\n",
       "       [ 76.4,   0.8,  14.8,   9.4],\n",
       "       [125.7,  36.9,  79.2,  15.9],\n",
       "       [ 19.4,  16. ,  22.3,   6.6],\n",
       "       [141.3,  26.8,  46.2,  15.5],\n",
       "       [ 18.8,  21.7,  50.4,   7. ],\n",
       "       [224. ,   2.4,  15.6,  11.6],\n",
       "       [123.1,  34.6,  12.4,  15.2],\n",
       "       [229.5,  32.3,  74.2,  19.7],\n",
       "       [ 87.2,  11.8,  25.9,  10.6],\n",
       "       [  7.8,  38.9,  50.6,   6.6],\n",
       "       [ 80.2,   0. ,   9.2,   8.8],\n",
       "       [220.3,  49. ,   3.2,  24.7],\n",
       "       [ 59.6,  12. ,  43.1,   9.7],\n",
       "       [  0.7,  39.6,   8.7,   1.6],\n",
       "       [265.2,   2.9,  43. ,  12.7],\n",
       "       [  8.4,  27.2,   2.1,   5.7],\n",
       "       [219.8,  33.5,  45.1,  19.6],\n",
       "       [ 36.9,  38.6,  65.6,  10.8],\n",
       "       [ 48.3,  47. ,   8.5,  11.6],\n",
       "       [ 25.6,  39. ,   9.3,   9.5],\n",
       "       [273.7,  28.9,  59.7,  20.8],\n",
       "       [ 43. ,  25.9,  20.5,   9.6],\n",
       "       [184.9,  43.9,   1.7,  20.7],\n",
       "       [ 73.4,  17. ,  12.9,  10.9],\n",
       "       [193.7,  35.4,  75.6,  19.2],\n",
       "       [220.5,  33.2,  37.9,  20.1],\n",
       "       [104.6,   5.7,  34.4,  10.4],\n",
       "       [ 96.2,  14.8,  38.9,  11.4],\n",
       "       [140.3,   1.9,   9. ,  10.3],\n",
       "       [240.1,   7.3,   8.7,  13.2],\n",
       "       [243.2,  49. ,  44.3,  25.4],\n",
       "       [ 38. ,  40.3,  11.9,  10.9],\n",
       "       [ 44.7,  25.8,  20.6,  10.1],\n",
       "       [280.7,  13.9,  37. ,  16.1],\n",
       "       [121. ,   8.4,  48.7,  11.6],\n",
       "       [197.6,  23.3,  14.2,  16.6],\n",
       "       [171.3,  39.7,  37.7,  19. ],\n",
       "       [187.8,  21.1,   9.5,  15.6],\n",
       "       [  4.1,  11.6,   5.7,   3.2],\n",
       "       [ 93.9,  43.5,  50.5,  15.3],\n",
       "       [149.8,   1.3,  24.3,  10.1],\n",
       "       [ 11.7,  36.9,  45.2,   7.3],\n",
       "       [131.7,  18.4,  34.6,  12.9],\n",
       "       [172.5,  18.1,  30.7,  14.4],\n",
       "       [ 85.7,  35.8,  49.3,  13.3],\n",
       "       [188.4,  18.1,  25.6,  14.9],\n",
       "       [163.5,  36.8,   7.4,  18. ],\n",
       "       [117.2,  14.7,   5.4,  11.9],\n",
       "       [234.5,   3.4,  84.8,  11.9],\n",
       "       [ 17.9,  37.6,  21.6,   8. ],\n",
       "       [206.8,   5.2,  19.4,  12.2],\n",
       "       [215.4,  23.6,  57.6,  17.1],\n",
       "       [284.3,  10.6,   6.4,  15. ],\n",
       "       [ 50. ,  11.6,  18.4,   8.4],\n",
       "       [164.5,  20.9,  47.4,  14.5],\n",
       "       [ 19.6,  20.1,  17. ,   7.6],\n",
       "       [168.4,   7.1,  12.8,  11.7],\n",
       "       [222.4,   3.4,  13.1,  11.5],\n",
       "       [276.9,  48.9,  41.8,  27. ],\n",
       "       [248.4,  30.2,  20.3,  20.2],\n",
       "       [170.2,   7.8,  35.2,  11.7],\n",
       "       [276.7,   2.3,  23.7,  11.8],\n",
       "       [165.6,  10. ,  17.6,  12.6],\n",
       "       [156.6,   2.6,   8.3,  10.5],\n",
       "       [218.5,   5.4,  27.4,  12.2],\n",
       "       [ 56.2,   5.7,  29.7,   8.7],\n",
       "       [287.6,  43. ,  71.8,  26.2],\n",
       "       [253.8,  21.3,  30. ,  17.6],\n",
       "       [205. ,  45.1,  19.6,  22.6],\n",
       "       [139.5,   2.1,  26.6,  10.3],\n",
       "       [191.1,  28.7,  18.2,  17.3],\n",
       "       [286. ,  13.9,   3.7,  15.9],\n",
       "       [ 18.7,  12.1,  23.4,   6.7],\n",
       "       [ 39.5,  41.1,   5.8,  10.8],\n",
       "       [ 75.5,  10.8,   6. ,   9.9],\n",
       "       [ 17.2,   4.1,  31.6,   5.9],\n",
       "       [166.8,  42. ,   3.6,  19.6],\n",
       "       [149.7,  35.6,   6. ,  17.3],\n",
       "       [ 38.2,   3.7,  13.8,   7.6],\n",
       "       [ 94.2,   4.9,   8.1,   9.7],\n",
       "       [177. ,   9.3,   6.4,  12.8],\n",
       "       [283.6,  42. ,  66.2,  25.5],\n",
       "       [232.1,   8.6,   8.7,  13.4]])"
      ]
     },
     "execution_count": 54,
     "metadata": {},
     "output_type": "execute_result"
    }
   ],
   "source": [
    "N_ds"
   ]
  },
  {
   "cell_type": "code",
   "execution_count": 55,
   "id": "0c06353f",
   "metadata": {},
   "outputs": [
    {
     "data": {
      "text/html": [
       "<div>\n",
       "<style scoped>\n",
       "    .dataframe tbody tr th:only-of-type {\n",
       "        vertical-align: middle;\n",
       "    }\n",
       "\n",
       "    .dataframe tbody tr th {\n",
       "        vertical-align: top;\n",
       "    }\n",
       "\n",
       "    .dataframe thead th {\n",
       "        text-align: right;\n",
       "    }\n",
       "</style>\n",
       "<table border=\"1\" class=\"dataframe\">\n",
       "  <thead>\n",
       "    <tr style=\"text-align: right;\">\n",
       "      <th></th>\n",
       "      <th>TV</th>\n",
       "      <th>radio</th>\n",
       "      <th>newspaper</th>\n",
       "      <th>sales</th>\n",
       "    </tr>\n",
       "  </thead>\n",
       "  <tbody>\n",
       "    <tr>\n",
       "      <th>0</th>\n",
       "      <td>0.969852</td>\n",
       "      <td>0.981522</td>\n",
       "      <td>1.778945</td>\n",
       "      <td>1.552053</td>\n",
       "    </tr>\n",
       "    <tr>\n",
       "      <th>1</th>\n",
       "      <td>1.197376</td>\n",
       "      <td>1.082808</td>\n",
       "      <td>0.669579</td>\n",
       "      <td>0.696046</td>\n",
       "    </tr>\n",
       "    <tr>\n",
       "      <th>2</th>\n",
       "      <td>1.516155</td>\n",
       "      <td>1.528463</td>\n",
       "      <td>1.783549</td>\n",
       "      <td>0.907406</td>\n",
       "    </tr>\n",
       "    <tr>\n",
       "      <th>3</th>\n",
       "      <td>0.052050</td>\n",
       "      <td>1.217855</td>\n",
       "      <td>1.286405</td>\n",
       "      <td>0.860330</td>\n",
       "    </tr>\n",
       "    <tr>\n",
       "      <th>4</th>\n",
       "      <td>0.394182</td>\n",
       "      <td>0.841614</td>\n",
       "      <td>1.281802</td>\n",
       "      <td>0.215683</td>\n",
       "    </tr>\n",
       "    <tr>\n",
       "      <th>...</th>\n",
       "      <td>...</td>\n",
       "      <td>...</td>\n",
       "      <td>...</td>\n",
       "      <td>...</td>\n",
       "    </tr>\n",
       "    <tr>\n",
       "      <th>195</th>\n",
       "      <td>1.270941</td>\n",
       "      <td>1.321031</td>\n",
       "      <td>0.771217</td>\n",
       "      <td>1.234053</td>\n",
       "    </tr>\n",
       "    <tr>\n",
       "      <th>196</th>\n",
       "      <td>0.617035</td>\n",
       "      <td>1.240003</td>\n",
       "      <td>1.033598</td>\n",
       "      <td>0.830548</td>\n",
       "    </tr>\n",
       "    <tr>\n",
       "      <th>197</th>\n",
       "      <td>0.349810</td>\n",
       "      <td>0.942899</td>\n",
       "      <td>1.111852</td>\n",
       "      <td>0.234898</td>\n",
       "    </tr>\n",
       "    <tr>\n",
       "      <th>198</th>\n",
       "      <td>1.594565</td>\n",
       "      <td>1.265121</td>\n",
       "      <td>1.640850</td>\n",
       "      <td>2.205347</td>\n",
       "    </tr>\n",
       "    <tr>\n",
       "      <th>199</th>\n",
       "      <td>0.993206</td>\n",
       "      <td>0.990165</td>\n",
       "      <td>1.005979</td>\n",
       "      <td>0.119610</td>\n",
       "    </tr>\n",
       "  </tbody>\n",
       "</table>\n",
       "<p>200 rows × 4 columns</p>\n",
       "</div>"
      ],
      "text/plain": [
       "           TV     radio  newspaper     sales\n",
       "0    0.969852  0.981522   1.778945  1.552053\n",
       "1    1.197376  1.082808   0.669579  0.696046\n",
       "2    1.516155  1.528463   1.783549  0.907406\n",
       "3    0.052050  1.217855   1.286405  0.860330\n",
       "4    0.394182  0.841614   1.281802  0.215683\n",
       "..        ...       ...        ...       ...\n",
       "195  1.270941  1.321031   0.771217  1.234053\n",
       "196  0.617035  1.240003   1.033598  0.830548\n",
       "197  0.349810  0.942899   1.111852  0.234898\n",
       "198  1.594565  1.265121   1.640850  2.205347\n",
       "199  0.993206  0.990165   1.005979  0.119610\n",
       "\n",
       "[200 rows x 4 columns]"
      ]
     },
     "execution_count": 55,
     "metadata": {},
     "output_type": "execute_result"
    }
   ],
   "source": [
    "z=np.abs(zscore(channel_ds))\n",
    "z"
   ]
  },
  {
   "cell_type": "code",
   "execution_count": 56,
   "id": "e1466a9e",
   "metadata": {},
   "outputs": [
    {
     "name": "stdout",
     "output_type": "stream",
     "text": [
      "(array([ 16, 101], dtype=int64), array([2, 2], dtype=int64))\n"
     ]
    }
   ],
   "source": [
    "thereshold=3\n",
    "print(np.where(z>3))"
   ]
  },
  {
   "cell_type": "code",
   "execution_count": 57,
   "id": "d36b5f2a",
   "metadata": {},
   "outputs": [
    {
     "data": {
      "text/html": [
       "<div>\n",
       "<style scoped>\n",
       "    .dataframe tbody tr th:only-of-type {\n",
       "        vertical-align: middle;\n",
       "    }\n",
       "\n",
       "    .dataframe tbody tr th {\n",
       "        vertical-align: top;\n",
       "    }\n",
       "\n",
       "    .dataframe thead th {\n",
       "        text-align: right;\n",
       "    }\n",
       "</style>\n",
       "<table border=\"1\" class=\"dataframe\">\n",
       "  <thead>\n",
       "    <tr style=\"text-align: right;\">\n",
       "      <th></th>\n",
       "      <th>TV</th>\n",
       "      <th>radio</th>\n",
       "      <th>newspaper</th>\n",
       "      <th>sales</th>\n",
       "    </tr>\n",
       "  </thead>\n",
       "  <tbody>\n",
       "    <tr>\n",
       "      <th>0</th>\n",
       "      <td>230.1</td>\n",
       "      <td>37.8</td>\n",
       "      <td>69.2</td>\n",
       "      <td>22.1</td>\n",
       "    </tr>\n",
       "    <tr>\n",
       "      <th>1</th>\n",
       "      <td>44.5</td>\n",
       "      <td>39.3</td>\n",
       "      <td>45.1</td>\n",
       "      <td>10.4</td>\n",
       "    </tr>\n",
       "    <tr>\n",
       "      <th>2</th>\n",
       "      <td>17.2</td>\n",
       "      <td>45.9</td>\n",
       "      <td>69.3</td>\n",
       "      <td>9.3</td>\n",
       "    </tr>\n",
       "    <tr>\n",
       "      <th>3</th>\n",
       "      <td>151.5</td>\n",
       "      <td>41.3</td>\n",
       "      <td>58.5</td>\n",
       "      <td>18.5</td>\n",
       "    </tr>\n",
       "    <tr>\n",
       "      <th>4</th>\n",
       "      <td>180.8</td>\n",
       "      <td>10.8</td>\n",
       "      <td>58.4</td>\n",
       "      <td>12.9</td>\n",
       "    </tr>\n",
       "    <tr>\n",
       "      <th>...</th>\n",
       "      <td>...</td>\n",
       "      <td>...</td>\n",
       "      <td>...</td>\n",
       "      <td>...</td>\n",
       "    </tr>\n",
       "    <tr>\n",
       "      <th>195</th>\n",
       "      <td>38.2</td>\n",
       "      <td>3.7</td>\n",
       "      <td>13.8</td>\n",
       "      <td>7.6</td>\n",
       "    </tr>\n",
       "    <tr>\n",
       "      <th>196</th>\n",
       "      <td>94.2</td>\n",
       "      <td>4.9</td>\n",
       "      <td>8.1</td>\n",
       "      <td>9.7</td>\n",
       "    </tr>\n",
       "    <tr>\n",
       "      <th>197</th>\n",
       "      <td>177.0</td>\n",
       "      <td>9.3</td>\n",
       "      <td>6.4</td>\n",
       "      <td>12.8</td>\n",
       "    </tr>\n",
       "    <tr>\n",
       "      <th>198</th>\n",
       "      <td>283.6</td>\n",
       "      <td>42.0</td>\n",
       "      <td>66.2</td>\n",
       "      <td>25.5</td>\n",
       "    </tr>\n",
       "    <tr>\n",
       "      <th>199</th>\n",
       "      <td>232.1</td>\n",
       "      <td>8.6</td>\n",
       "      <td>8.7</td>\n",
       "      <td>13.4</td>\n",
       "    </tr>\n",
       "  </tbody>\n",
       "</table>\n",
       "<p>198 rows × 4 columns</p>\n",
       "</div>"
      ],
      "text/plain": [
       "        TV  radio  newspaper  sales\n",
       "0    230.1   37.8       69.2   22.1\n",
       "1     44.5   39.3       45.1   10.4\n",
       "2     17.2   45.9       69.3    9.3\n",
       "3    151.5   41.3       58.5   18.5\n",
       "4    180.8   10.8       58.4   12.9\n",
       "..     ...    ...        ...    ...\n",
       "195   38.2    3.7       13.8    7.6\n",
       "196   94.2    4.9        8.1    9.7\n",
       "197  177.0    9.3        6.4   12.8\n",
       "198  283.6   42.0       66.2   25.5\n",
       "199  232.1    8.6        8.7   13.4\n",
       "\n",
       "[198 rows x 4 columns]"
      ]
     },
     "execution_count": 57,
     "metadata": {},
     "output_type": "execute_result"
    }
   ],
   "source": [
    "N_ds=channel_ds[(z<3).all(axis=1)]\n",
    "N_ds"
   ]
  },
  {
   "cell_type": "code",
   "execution_count": 58,
   "id": "21f4541d",
   "metadata": {},
   "outputs": [
    {
     "data": {
      "text/plain": [
       "(198, 4)"
      ]
     },
     "execution_count": 58,
     "metadata": {},
     "output_type": "execute_result"
    }
   ],
   "source": [
    "N_ds.shape"
   ]
  },
  {
   "cell_type": "code",
   "execution_count": 59,
   "id": "aee7470e",
   "metadata": {},
   "outputs": [
    {
     "data": {
      "text/plain": [
       "(200, 4)"
      ]
     },
     "execution_count": 59,
     "metadata": {},
     "output_type": "execute_result"
    }
   ],
   "source": [
    "channel_ds.shape"
   ]
  },
  {
   "cell_type": "markdown",
   "id": "413a10be",
   "metadata": {},
   "source": [
    "Observation:\n",
    "    \n",
    "Outliers has been removed."
   ]
  },
  {
   "cell_type": "code",
   "execution_count": 60,
   "id": "95ae8803",
   "metadata": {},
   "outputs": [],
   "source": [
    "channel_ds=N_ds"
   ]
  },
  {
   "cell_type": "code",
   "execution_count": 61,
   "id": "d8f6b14f",
   "metadata": {},
   "outputs": [
    {
     "data": {
      "text/html": [
       "<div>\n",
       "<style scoped>\n",
       "    .dataframe tbody tr th:only-of-type {\n",
       "        vertical-align: middle;\n",
       "    }\n",
       "\n",
       "    .dataframe tbody tr th {\n",
       "        vertical-align: top;\n",
       "    }\n",
       "\n",
       "    .dataframe thead th {\n",
       "        text-align: right;\n",
       "    }\n",
       "</style>\n",
       "<table border=\"1\" class=\"dataframe\">\n",
       "  <thead>\n",
       "    <tr style=\"text-align: right;\">\n",
       "      <th></th>\n",
       "      <th>TV</th>\n",
       "      <th>radio</th>\n",
       "      <th>newspaper</th>\n",
       "      <th>sales</th>\n",
       "    </tr>\n",
       "  </thead>\n",
       "  <tbody>\n",
       "    <tr>\n",
       "      <th>0</th>\n",
       "      <td>230.1</td>\n",
       "      <td>37.8</td>\n",
       "      <td>69.2</td>\n",
       "      <td>22.1</td>\n",
       "    </tr>\n",
       "    <tr>\n",
       "      <th>1</th>\n",
       "      <td>44.5</td>\n",
       "      <td>39.3</td>\n",
       "      <td>45.1</td>\n",
       "      <td>10.4</td>\n",
       "    </tr>\n",
       "    <tr>\n",
       "      <th>2</th>\n",
       "      <td>17.2</td>\n",
       "      <td>45.9</td>\n",
       "      <td>69.3</td>\n",
       "      <td>9.3</td>\n",
       "    </tr>\n",
       "    <tr>\n",
       "      <th>3</th>\n",
       "      <td>151.5</td>\n",
       "      <td>41.3</td>\n",
       "      <td>58.5</td>\n",
       "      <td>18.5</td>\n",
       "    </tr>\n",
       "    <tr>\n",
       "      <th>4</th>\n",
       "      <td>180.8</td>\n",
       "      <td>10.8</td>\n",
       "      <td>58.4</td>\n",
       "      <td>12.9</td>\n",
       "    </tr>\n",
       "    <tr>\n",
       "      <th>...</th>\n",
       "      <td>...</td>\n",
       "      <td>...</td>\n",
       "      <td>...</td>\n",
       "      <td>...</td>\n",
       "    </tr>\n",
       "    <tr>\n",
       "      <th>195</th>\n",
       "      <td>38.2</td>\n",
       "      <td>3.7</td>\n",
       "      <td>13.8</td>\n",
       "      <td>7.6</td>\n",
       "    </tr>\n",
       "    <tr>\n",
       "      <th>196</th>\n",
       "      <td>94.2</td>\n",
       "      <td>4.9</td>\n",
       "      <td>8.1</td>\n",
       "      <td>9.7</td>\n",
       "    </tr>\n",
       "    <tr>\n",
       "      <th>197</th>\n",
       "      <td>177.0</td>\n",
       "      <td>9.3</td>\n",
       "      <td>6.4</td>\n",
       "      <td>12.8</td>\n",
       "    </tr>\n",
       "    <tr>\n",
       "      <th>198</th>\n",
       "      <td>283.6</td>\n",
       "      <td>42.0</td>\n",
       "      <td>66.2</td>\n",
       "      <td>25.5</td>\n",
       "    </tr>\n",
       "    <tr>\n",
       "      <th>199</th>\n",
       "      <td>232.1</td>\n",
       "      <td>8.6</td>\n",
       "      <td>8.7</td>\n",
       "      <td>13.4</td>\n",
       "    </tr>\n",
       "  </tbody>\n",
       "</table>\n",
       "<p>198 rows × 4 columns</p>\n",
       "</div>"
      ],
      "text/plain": [
       "        TV  radio  newspaper  sales\n",
       "0    230.1   37.8       69.2   22.1\n",
       "1     44.5   39.3       45.1   10.4\n",
       "2     17.2   45.9       69.3    9.3\n",
       "3    151.5   41.3       58.5   18.5\n",
       "4    180.8   10.8       58.4   12.9\n",
       "..     ...    ...        ...    ...\n",
       "195   38.2    3.7       13.8    7.6\n",
       "196   94.2    4.9        8.1    9.7\n",
       "197  177.0    9.3        6.4   12.8\n",
       "198  283.6   42.0       66.2   25.5\n",
       "199  232.1    8.6        8.7   13.4\n",
       "\n",
       "[198 rows x 4 columns]"
      ]
     },
     "execution_count": 61,
     "metadata": {},
     "output_type": "execute_result"
    }
   ],
   "source": [
    "channel_ds"
   ]
  },
  {
   "cell_type": "markdown",
   "id": "7259b072",
   "metadata": {},
   "source": [
    "# MULTICOLLINEARITY"
   ]
  },
  {
   "cell_type": "code",
   "execution_count": 62,
   "id": "fe54f242",
   "metadata": {},
   "outputs": [],
   "source": [
    "from scipy import stats\n",
    "import statsmodels.api as sm\n",
    "from statsmodels.stats.outliers_influence import variance_inflation_factor"
   ]
  },
  {
   "cell_type": "code",
   "execution_count": 63,
   "id": "efaa80a3",
   "metadata": {},
   "outputs": [
    {
     "data": {
      "text/html": [
       "<div>\n",
       "<style scoped>\n",
       "    .dataframe tbody tr th:only-of-type {\n",
       "        vertical-align: middle;\n",
       "    }\n",
       "\n",
       "    .dataframe tbody tr th {\n",
       "        vertical-align: top;\n",
       "    }\n",
       "\n",
       "    .dataframe thead th {\n",
       "        text-align: right;\n",
       "    }\n",
       "</style>\n",
       "<table border=\"1\" class=\"dataframe\">\n",
       "  <thead>\n",
       "    <tr style=\"text-align: right;\">\n",
       "      <th></th>\n",
       "      <th>TV</th>\n",
       "      <th>radio</th>\n",
       "      <th>newspaper</th>\n",
       "      <th>sales</th>\n",
       "    </tr>\n",
       "  </thead>\n",
       "  <tbody>\n",
       "    <tr>\n",
       "      <th>195</th>\n",
       "      <td>38.2</td>\n",
       "      <td>3.7</td>\n",
       "      <td>13.8</td>\n",
       "      <td>7.6</td>\n",
       "    </tr>\n",
       "    <tr>\n",
       "      <th>196</th>\n",
       "      <td>94.2</td>\n",
       "      <td>4.9</td>\n",
       "      <td>8.1</td>\n",
       "      <td>9.7</td>\n",
       "    </tr>\n",
       "    <tr>\n",
       "      <th>197</th>\n",
       "      <td>177.0</td>\n",
       "      <td>9.3</td>\n",
       "      <td>6.4</td>\n",
       "      <td>12.8</td>\n",
       "    </tr>\n",
       "    <tr>\n",
       "      <th>198</th>\n",
       "      <td>283.6</td>\n",
       "      <td>42.0</td>\n",
       "      <td>66.2</td>\n",
       "      <td>25.5</td>\n",
       "    </tr>\n",
       "    <tr>\n",
       "      <th>199</th>\n",
       "      <td>232.1</td>\n",
       "      <td>8.6</td>\n",
       "      <td>8.7</td>\n",
       "      <td>13.4</td>\n",
       "    </tr>\n",
       "  </tbody>\n",
       "</table>\n",
       "</div>"
      ],
      "text/plain": [
       "        TV  radio  newspaper  sales\n",
       "195   38.2    3.7       13.8    7.6\n",
       "196   94.2    4.9        8.1    9.7\n",
       "197  177.0    9.3        6.4   12.8\n",
       "198  283.6   42.0       66.2   25.5\n",
       "199  232.1    8.6        8.7   13.4"
      ]
     },
     "execution_count": 63,
     "metadata": {},
     "output_type": "execute_result"
    }
   ],
   "source": [
    "channel_ds.tail()"
   ]
  },
  {
   "cell_type": "code",
   "execution_count": 64,
   "id": "a97e2873",
   "metadata": {},
   "outputs": [
    {
     "data": {
      "text/html": [
       "<div>\n",
       "<style scoped>\n",
       "    .dataframe tbody tr th:only-of-type {\n",
       "        vertical-align: middle;\n",
       "    }\n",
       "\n",
       "    .dataframe tbody tr th {\n",
       "        vertical-align: top;\n",
       "    }\n",
       "\n",
       "    .dataframe thead th {\n",
       "        text-align: right;\n",
       "    }\n",
       "</style>\n",
       "<table border=\"1\" class=\"dataframe\">\n",
       "  <thead>\n",
       "    <tr style=\"text-align: right;\">\n",
       "      <th></th>\n",
       "      <th>TV</th>\n",
       "      <th>radio</th>\n",
       "      <th>newspaper</th>\n",
       "    </tr>\n",
       "  </thead>\n",
       "  <tbody>\n",
       "    <tr>\n",
       "      <th>0</th>\n",
       "      <td>230.1</td>\n",
       "      <td>37.8</td>\n",
       "      <td>69.2</td>\n",
       "    </tr>\n",
       "    <tr>\n",
       "      <th>1</th>\n",
       "      <td>44.5</td>\n",
       "      <td>39.3</td>\n",
       "      <td>45.1</td>\n",
       "    </tr>\n",
       "    <tr>\n",
       "      <th>2</th>\n",
       "      <td>17.2</td>\n",
       "      <td>45.9</td>\n",
       "      <td>69.3</td>\n",
       "    </tr>\n",
       "    <tr>\n",
       "      <th>3</th>\n",
       "      <td>151.5</td>\n",
       "      <td>41.3</td>\n",
       "      <td>58.5</td>\n",
       "    </tr>\n",
       "    <tr>\n",
       "      <th>4</th>\n",
       "      <td>180.8</td>\n",
       "      <td>10.8</td>\n",
       "      <td>58.4</td>\n",
       "    </tr>\n",
       "    <tr>\n",
       "      <th>...</th>\n",
       "      <td>...</td>\n",
       "      <td>...</td>\n",
       "      <td>...</td>\n",
       "    </tr>\n",
       "    <tr>\n",
       "      <th>195</th>\n",
       "      <td>38.2</td>\n",
       "      <td>3.7</td>\n",
       "      <td>13.8</td>\n",
       "    </tr>\n",
       "    <tr>\n",
       "      <th>196</th>\n",
       "      <td>94.2</td>\n",
       "      <td>4.9</td>\n",
       "      <td>8.1</td>\n",
       "    </tr>\n",
       "    <tr>\n",
       "      <th>197</th>\n",
       "      <td>177.0</td>\n",
       "      <td>9.3</td>\n",
       "      <td>6.4</td>\n",
       "    </tr>\n",
       "    <tr>\n",
       "      <th>198</th>\n",
       "      <td>283.6</td>\n",
       "      <td>42.0</td>\n",
       "      <td>66.2</td>\n",
       "    </tr>\n",
       "    <tr>\n",
       "      <th>199</th>\n",
       "      <td>232.1</td>\n",
       "      <td>8.6</td>\n",
       "      <td>8.7</td>\n",
       "    </tr>\n",
       "  </tbody>\n",
       "</table>\n",
       "<p>198 rows × 3 columns</p>\n",
       "</div>"
      ],
      "text/plain": [
       "        TV  radio  newspaper\n",
       "0    230.1   37.8       69.2\n",
       "1     44.5   39.3       45.1\n",
       "2     17.2   45.9       69.3\n",
       "3    151.5   41.3       58.5\n",
       "4    180.8   10.8       58.4\n",
       "..     ...    ...        ...\n",
       "195   38.2    3.7       13.8\n",
       "196   94.2    4.9        8.1\n",
       "197  177.0    9.3        6.4\n",
       "198  283.6   42.0       66.2\n",
       "199  232.1    8.6        8.7\n",
       "\n",
       "[198 rows x 3 columns]"
      ]
     },
     "execution_count": 64,
     "metadata": {},
     "output_type": "execute_result"
    }
   ],
   "source": [
    "x=channel_ds.iloc[:,0:-1]\n",
    "x"
   ]
  },
  {
   "cell_type": "code",
   "execution_count": 65,
   "id": "d82ef97e",
   "metadata": {},
   "outputs": [
    {
     "data": {
      "text/plain": [
       "0      22.1\n",
       "1      10.4\n",
       "2       9.3\n",
       "3      18.5\n",
       "4      12.9\n",
       "       ... \n",
       "195     7.6\n",
       "196     9.7\n",
       "197    12.8\n",
       "198    25.5\n",
       "199    13.4\n",
       "Name: sales, Length: 198, dtype: float64"
      ]
     },
     "execution_count": 65,
     "metadata": {},
     "output_type": "execute_result"
    }
   ],
   "source": [
    "y=channel_ds.iloc[:,-1]\n",
    "y"
   ]
  },
  {
   "cell_type": "code",
   "execution_count": 66,
   "id": "56a550c6",
   "metadata": {},
   "outputs": [],
   "source": [
    "def vif(x):\n",
    "    vif=pd.DataFrame()\n",
    "    vif[\"variables\"]=x.columns\n",
    "    vif[\"VIF FACTOR\"]=[variance_inflation_factor(x.values,i) for i in range(x.shape[1])]\n",
    "    return(vif)"
   ]
  },
  {
   "cell_type": "code",
   "execution_count": 67,
   "id": "c474fdb8",
   "metadata": {},
   "outputs": [
    {
     "data": {
      "text/html": [
       "<div>\n",
       "<style scoped>\n",
       "    .dataframe tbody tr th:only-of-type {\n",
       "        vertical-align: middle;\n",
       "    }\n",
       "\n",
       "    .dataframe tbody tr th {\n",
       "        vertical-align: top;\n",
       "    }\n",
       "\n",
       "    .dataframe thead th {\n",
       "        text-align: right;\n",
       "    }\n",
       "</style>\n",
       "<table border=\"1\" class=\"dataframe\">\n",
       "  <thead>\n",
       "    <tr style=\"text-align: right;\">\n",
       "      <th></th>\n",
       "      <th>variables</th>\n",
       "      <th>VIF FACTOR</th>\n",
       "    </tr>\n",
       "  </thead>\n",
       "  <tbody>\n",
       "    <tr>\n",
       "      <th>0</th>\n",
       "      <td>TV</td>\n",
       "      <td>2.502183</td>\n",
       "    </tr>\n",
       "    <tr>\n",
       "      <th>1</th>\n",
       "      <td>radio</td>\n",
       "      <td>3.275285</td>\n",
       "    </tr>\n",
       "    <tr>\n",
       "      <th>2</th>\n",
       "      <td>newspaper</td>\n",
       "      <td>3.126386</td>\n",
       "    </tr>\n",
       "  </tbody>\n",
       "</table>\n",
       "</div>"
      ],
      "text/plain": [
       "   variables  VIF FACTOR\n",
       "0         TV    2.502183\n",
       "1      radio    3.275285\n",
       "2  newspaper    3.126386"
      ]
     },
     "execution_count": 67,
     "metadata": {},
     "output_type": "execute_result"
    }
   ],
   "source": [
    "vif(x)"
   ]
  },
  {
   "cell_type": "markdown",
   "id": "47871eed",
   "metadata": {},
   "source": [
    "Observation:\n",
    "    \n",
    "No multicollinearity in channel data."
   ]
  },
  {
   "cell_type": "markdown",
   "id": "1efd7170",
   "metadata": {},
   "source": [
    "# Scalling The data"
   ]
  },
  {
   "cell_type": "code",
   "execution_count": 68,
   "id": "ab11c600",
   "metadata": {},
   "outputs": [],
   "source": [
    "from sklearn.preprocessing import StandardScaler"
   ]
  },
  {
   "cell_type": "code",
   "execution_count": 69,
   "id": "d9af3733",
   "metadata": {},
   "outputs": [
    {
     "data": {
      "text/plain": [
       "array([[ 0.97869734,  0.98952135,  1.93299778],\n",
       "       [-1.19901165,  1.09070498,  0.75131275],\n",
       "       [-1.51933199,  1.53591293,  1.93790103],\n",
       "       [ 0.05645636,  1.22561648,  1.40834924],\n",
       "       [ 0.40024339, -0.83178391,  1.40344598],\n",
       "       [-1.61906543,  1.73828018,  2.2173867 ],\n",
       "       [-1.04647815,  0.6522426 , -0.30779084],\n",
       "       [-0.31079737, -0.23817331, -0.89127846],\n",
       "       [-1.62023876, -1.41864895, -1.41102374],\n",
       "       [ 0.62317696, -1.38492107, -0.42056576],\n",
       "       [-0.94557138, -1.16906267, -0.27346804],\n",
       "       [ 0.79800381,  0.05863199, -1.26392602],\n",
       "       [-1.44189191,  0.80739083,  1.77119028],\n",
       "       [-0.57714432, -1.04764232, -1.10702179],\n",
       "       [ 0.67363035,  0.65898817,  0.79544207],\n",
       "       [ 0.57155024,  1.65733328,  1.13376683],\n",
       "       [ 1.58061798,  1.1109417 ,  1.27596129],\n",
       "       [-0.90919801, -0.17746313, -0.56276022],\n",
       "       [ 0.0071763 ,  0.05188642, -0.52353416],\n",
       "       [ 0.84141719,  0.30821827,  1.15828311],\n",
       "       [ 1.06435076, -1.21628169, -0.30779084],\n",
       "       [-1.56626537, -0.48775959,  0.97195933],\n",
       "       [ 0.95757732, -0.42030384, -0.17540289],\n",
       "       [-0.99015809, -0.71036356, -0.56276022],\n",
       "       [ 1.36355108, -1.32421089, -0.50392113],\n",
       "       [-0.04445042,  0.41614747, -0.84224589],\n",
       "       [ 1.0960308 , -0.43379499, -0.33721038],\n",
       "       [ 1.19811091,  0.26774482, -0.33721038],\n",
       "       [-0.89277132, -0.48101401,  0.54047269],\n",
       "       [ 1.71555146,  0.34869172,  0.65815086],\n",
       "       [-0.39645079, -0.38657596,  0.43260102],\n",
       "       [-0.58066432, -1.4591224 ,  0.01092089],\n",
       "       [ 1.39523112, -0.21119101, -1.44534654],\n",
       "       [-0.59826434, -1.46586797, -1.09721527],\n",
       "       [ 1.6897381 , -1.28373744, -1.04327944],\n",
       "       [ 1.41048447,  1.39425586, -1.21489345],\n",
       "       [-0.8446646 ,  1.77200806,  0.7807323 ],\n",
       "       [-1.21543833,  0.24076252,  0.26098702],\n",
       "       [ 0.95405731,  0.98277578,  0.10898604],\n",
       "       [ 0.65485699, -0.05604278,  0.08937301],\n",
       "       [ 0.35565668,  0.69271605,  0.43750428],\n",
       "       [ 1.7237648 ,  0.30821827, -1.37179768],\n",
       "       [ 0.70648372, -0.99367772, -0.16559637],\n",
       "       [-1.42663856,  0.17330677,  0.66305412],\n",
       "       [ 0.33336332, -0.04255163,  0.08446975],\n",
       "       [-0.66866442, -0.89249409,  0.29040656],\n",
       "       [ 1.09368413,  1.23910763, -0.5529537 ],\n",
       "       [ 0.94467064, -0.49450516,  0.98666911],\n",
       "       [-0.9361847 , -0.77107374,  0.34434239],\n",
       "       [ 0.62317696, -1.35119319,  0.23647073],\n",
       "       [-0.54311762, -0.91273082, -1.28353905],\n",
       "       [ 0.8179505 ,  1.25259878,  0.4816336 ],\n",
       "       [ 0.42136341,  1.55614966,  1.41815575],\n",
       "       [ 1.36120441,  0.3824196 , -0.6804384 ],\n",
       "       [ 0.61261695,  1.77200806,  1.4818981 ],\n",
       "       [-1.63549211,  0.33520057,  0.56989223],\n",
       "       [-0.12306383, -0.26515561, -0.64611559],\n",
       "       [ 0.75224376,  1.78549921,  0.38847171],\n",
       "       [ 0.75107043,  0.42963862, -1.00405338],\n",
       "       [-1.09341154, -1.42539452, -0.41075924],\n",
       "       [ 1.34477773,  1.32005453,  1.22202546],\n",
       "       [ 1.08664412, -0.51474189, -0.12146706],\n",
       "       [-0.51613092,  0.4363842 , -1.0481827 ],\n",
       "       [-0.1829039 ,  1.32680011, -0.04301494],\n",
       "       [-0.91154467, -0.93296754, -1.415927  ],\n",
       "       [-1.35154514,  0.09910544, -1.35218465],\n",
       "       [-0.08669046, -0.58219764, -0.95992407],\n",
       "       [ 1.06435076,  0.29472712, -0.92069801],\n",
       "       [ 0.82264384,  1.40100143, -0.12637031],\n",
       "       [ 0.61496362,  0.50383995,  0.43750428],\n",
       "       [-0.43282416, -0.59568879,  0.09427627],\n",
       "       [-1.40669187,  0.66573375, -0.51372765],\n",
       "       [-0.20285059, -1.17580824,  0.07466324],\n",
       "       [ 0.78275046,  0.09910544, -0.8177296 ],\n",
       "       [-1.52285199,  1.38751028,  2.92345576],\n",
       "       [-1.39847853, -1.45237682, -0.44508204],\n",
       "       [-0.30727736,  0.36218287, -0.76379377],\n",
       "       [-1.65778547,  0.45662092, -0.99915012],\n",
       "       [-0.36007742, -1.04089674, -0.32740387],\n",
       "       [-0.82471792,  0.24076252, -0.36662993],\n",
       "       [ 1.09251079, -1.28373744,  0.34924565],\n",
       "       [-0.8376246 , -0.19095428,  0.13350233],\n",
       "       [-0.91858468,  1.44147488,  0.2855033 ],\n",
       "       [ 0.7839238 ,  1.34029126,  0.19724467],\n",
       "       [ 0.54573688, -0.31912021,  1.76138377],\n",
       "       [-0.82589125,  0.29472712, -0.67553514],\n",
       "       [-0.42226415,  1.17839745,  1.63880233],\n",
       "       [-0.6850911 ,  0.15981562,  2.13893458],\n",
       "       [-0.43282416,  1.66407886,  1.06021797],\n",
       "       [-0.14535719, -1.22977284, -1.00405338],\n",
       "       [-1.38557185, -1.4591224 ,  0.15801861],\n",
       "       [ 0.83320385,  0.69946162,  1.43286552],\n",
       "       [ 1.22275093,  0.90182888,  2.08499875],\n",
       "       [-0.46098419, -0.61592551, -0.92560126],\n",
       "       [ 0.19490984,  0.5712957 ,  1.13376683],\n",
       "       [ 0.5973636 , -1.32421089, -1.17076413],\n",
       "       [ 0.44835011, -0.14373526, -0.3813397 ],\n",
       "       [ 1.67800475,  1.29307223,  1.05041145],\n",
       "       [-0.13479718,  1.25259878,  0.79053881],\n",
       "       [ 0.88835058, -1.27024629,  0.98176585],\n",
       "       [ 1.56653796, -0.87900294, -0.41075924],\n",
       "       [ 0.48355014, -0.40006711, -0.58237325],\n",
       "       [ 1.07373744,  0.75342622, -1.20018368],\n",
       "       [-0.10311715,  1.56964081,  1.43286552],\n",
       "       [-1.42781189, -0.81829276, -0.00378888],\n",
       "       [-0.66045107, -1.5400693 , -0.32250061],\n",
       "       [-1.56743871, -1.53332372, -0.20482243],\n",
       "       [ 1.27555099,  0.25425367, -1.19037716],\n",
       "       [ 0.92824395, -1.00716887,  1.31028409],\n",
       "       [ 1.11480415,  1.0030125 , -0.32250061],\n",
       "       [ 0.34040333, -0.52148746, -1.34237814],\n",
       "       [ 0.73816375, -0.17071756, -0.93540778],\n",
       "       [-0.80359789,  1.59662311,  0.23156747],\n",
       "       [-0.83997127,  0.80064525,  1.12396031],\n",
       "       [-0.0878638 , -0.59568879, -0.20482243],\n",
       "       [-0.82471792, -1.50634142, -0.73437423],\n",
       "       [-0.24626397,  0.92881118,  2.42332351],\n",
       "       [-1.49351863, -0.48101401, -0.36662993],\n",
       "       [-0.06322377,  0.2475081 ,  0.80524858],\n",
       "       [-1.50055864, -0.09651623,  1.01118539],\n",
       "       [ 0.90712393, -1.39841222, -0.69514817],\n",
       "       [-0.27677067,  0.77366295, -0.8520524 ],\n",
       "       [ 0.97165733,  0.61851472,  2.17816064],\n",
       "       [-0.69799778, -0.76432816, -0.19011266],\n",
       "       [-1.62962544,  1.06372268,  1.02099191],\n",
       "       [-0.7801312 , -1.56030602, -1.00895664],\n",
       "       [ 0.86371055,  1.74502576, -1.30315208],\n",
       "       [-1.02183813, -0.75083701,  0.65324761],\n",
       "       [-1.7129322 ,  1.1109417 , -1.03347293],\n",
       "       [ 1.39053778, -1.36468434,  0.64834435],\n",
       "       [-1.62258543,  0.2744904 , -1.35708791],\n",
       "       [ 0.85784388,  0.69946162,  0.75131275],\n",
       "       [-1.28818508,  1.04348595,  1.75648051],\n",
       "       [-1.15442493,  1.61011426, -1.04327944],\n",
       "       [-1.42077188,  1.07046825, -1.00405338],\n",
       "       [ 1.49027122,  0.38916517,  1.46718833],\n",
       "       [-1.21661167,  0.18679792, -0.45488856],\n",
       "       [ 0.44835011,  1.40100143, -1.37670094],\n",
       "       [-0.85991795, -0.41355826, -0.82753612],\n",
       "       [ 0.55160355,  0.82762755,  2.24680625],\n",
       "       [ 0.86605722,  0.6792249 ,  0.39827822],\n",
       "       [-0.49383756, -1.17580824,  0.22666422],\n",
       "       [-0.59239767, -0.56196091,  0.4473108 ],\n",
       "       [-0.07495712, -1.4321401 , -1.01876315],\n",
       "       [ 1.0960308 , -1.06787904, -1.03347293],\n",
       "       [ 1.13240417,  1.74502576,  0.71208669],\n",
       "       [-1.2752784 ,  1.15816073, -0.87656869],\n",
       "       [-1.19666498,  0.18005234, -0.4499853 ],\n",
       "       [ 1.57240464, -0.62267109,  0.35414891],\n",
       "       [-0.30141069, -0.99367772,  0.92783002],\n",
       "       [ 0.5973636 ,  0.01141297, -0.76379377],\n",
       "       [ 0.2887766 ,  1.11768728,  0.38847171],\n",
       "       [ 0.48237681, -0.13698968, -0.99424687],\n",
       "       [-1.67303882, -0.77781931, -1.18057065],\n",
       "       [-0.61938436,  1.37401913,  1.01608865],\n",
       "       [ 0.03650967, -1.47261355, -0.26856478],\n",
       "       [-1.58386539,  0.92881118,  0.75621601],\n",
       "       [-0.17586389, -0.31912021,  0.23647073],\n",
       "       [ 0.30285662, -0.33935694,  0.04524369],\n",
       "       [-0.7155978 ,  0.85460985,  0.95724956],\n",
       "       [ 0.48941682, -0.33935694, -0.20482243],\n",
       "       [ 0.19725651,  0.9220656 , -1.09721527],\n",
       "       [-0.34599741, -0.56870649, -1.19528042],\n",
       "       [ 1.03032406, -1.33095647,  2.69790592],\n",
       "       [-1.51111865,  0.9760302 , -0.40095273],\n",
       "       [ 0.70531038, -1.20953612, -0.50882439],\n",
       "       [ 0.80621716,  0.03164969,  1.36421992],\n",
       "       [ 1.61464468, -0.84527507, -1.14624784],\n",
       "       [-1.13447825, -0.77781931, -0.55785696],\n",
       "       [ 0.20898985, -0.15048083,  0.86408767],\n",
       "       [-1.49117196, -0.20444543, -0.62650256],\n",
       "       [ 0.2547499 , -1.08137019, -0.83243937],\n",
       "       [ 0.88835058, -1.33095647, -0.8177296 ],\n",
       "       [ 1.52781792,  1.73828018,  0.58950526],\n",
       "       [ 1.19341757,  0.47685765, -0.46469507],\n",
       "       [ 0.27586992, -1.03415117,  0.26589027],\n",
       "       [ 1.52547125, -1.4051578 , -0.29798432],\n",
       "       [ 0.22189653, -0.88574852, -0.59708302],\n",
       "       [ 0.11629642, -1.38492107, -1.05308596],\n",
       "       [ 0.84259053, -1.19604497, -0.1165638 ],\n",
       "       [-1.0617315 , -1.17580824, -0.00378888],\n",
       "       [ 1.65336472,  1.34029126,  2.06048247],\n",
       "       [ 1.25677764, -0.12349853,  0.01092089],\n",
       "       [ 0.68419036,  1.48194833, -0.49901787],\n",
       "       [-0.08434379, -1.41864895, -0.15578986],\n",
       "       [ 0.52109685,  0.37567402, -0.56766348],\n",
       "       [ 1.63459137, -0.62267109, -1.27863579],\n",
       "       [-1.50173197, -0.74409144, -0.31269409],\n",
       "       [-1.25767838,  1.21212533, -1.17566739],\n",
       "       [-0.83527793, -0.83178391, -1.16586087],\n",
       "       [-1.51933199, -1.28373744,  0.08937301],\n",
       "       [ 0.23597655,  1.2728355 , -1.28353905],\n",
       "       [ 0.03533633,  0.8411187 , -1.16586087],\n",
       "       [-1.27293173, -1.31071974, -0.7834068 ],\n",
       "       [-0.61586436, -1.22977284, -1.06289247],\n",
       "       [ 0.35565668, -0.93296754, -1.14624784],\n",
       "       [ 1.60643134,  1.2728355 ,  1.78590005],\n",
       "       [ 1.00216403, -0.98018657, -1.03347293]])"
      ]
     },
     "execution_count": 69,
     "metadata": {},
     "output_type": "execute_result"
    }
   ],
   "source": [
    "scale=StandardScaler()\n",
    "x=scale.fit_transform(x)\n",
    "x"
   ]
  },
  {
   "cell_type": "markdown",
   "id": "884d144f",
   "metadata": {},
   "source": [
    "# Prediction by the algorithm"
   ]
  },
  {
   "cell_type": "code",
   "execution_count": 70,
   "id": "8239c4d7",
   "metadata": {},
   "outputs": [],
   "source": [
    "from sklearn.model_selection import train_test_split\n",
    "\n",
    "from sklearn.linear_model import LinearRegression\n",
    "from sklearn.ensemble import RandomForestRegressor\n",
    "from sklearn.neighbors import KNeighborsRegressor\n",
    "from sklearn.tree import DecisionTreeRegressor\n",
    "from sklearn.svm import SVR\n",
    "\n",
    "from sklearn.metrics import mean_squared_error,mean_absolute_error\n",
    "from sklearn.metrics import r2_score\n",
    "from sklearn.metrics import accuracy_score,classification_report,confusion_matrix"
   ]
  },
  {
   "cell_type": "code",
   "execution_count": 71,
   "id": "76db8f27",
   "metadata": {},
   "outputs": [
    {
     "name": "stdout",
     "output_type": "stream",
     "text": [
      "[[ 0.97869734  0.98952135  1.93299778]\n",
      " [-1.19901165  1.09070498  0.75131275]\n",
      " [-1.51933199  1.53591293  1.93790103]\n",
      " [ 0.05645636  1.22561648  1.40834924]\n",
      " [ 0.40024339 -0.83178391  1.40344598]\n",
      " [-1.61906543  1.73828018  2.2173867 ]\n",
      " [-1.04647815  0.6522426  -0.30779084]\n",
      " [-0.31079737 -0.23817331 -0.89127846]\n",
      " [-1.62023876 -1.41864895 -1.41102374]\n",
      " [ 0.62317696 -1.38492107 -0.42056576]\n",
      " [-0.94557138 -1.16906267 -0.27346804]\n",
      " [ 0.79800381  0.05863199 -1.26392602]\n",
      " [-1.44189191  0.80739083  1.77119028]\n",
      " [-0.57714432 -1.04764232 -1.10702179]\n",
      " [ 0.67363035  0.65898817  0.79544207]\n",
      " [ 0.57155024  1.65733328  1.13376683]\n",
      " [ 1.58061798  1.1109417   1.27596129]\n",
      " [-0.90919801 -0.17746313 -0.56276022]\n",
      " [ 0.0071763   0.05188642 -0.52353416]\n",
      " [ 0.84141719  0.30821827  1.15828311]\n",
      " [ 1.06435076 -1.21628169 -0.30779084]\n",
      " [-1.56626537 -0.48775959  0.97195933]\n",
      " [ 0.95757732 -0.42030384 -0.17540289]\n",
      " [-0.99015809 -0.71036356 -0.56276022]\n",
      " [ 1.36355108 -1.32421089 -0.50392113]\n",
      " [-0.04445042  0.41614747 -0.84224589]\n",
      " [ 1.0960308  -0.43379499 -0.33721038]\n",
      " [ 1.19811091  0.26774482 -0.33721038]\n",
      " [-0.89277132 -0.48101401  0.54047269]\n",
      " [ 1.71555146  0.34869172  0.65815086]\n",
      " [-0.39645079 -0.38657596  0.43260102]\n",
      " [-0.58066432 -1.4591224   0.01092089]\n",
      " [ 1.39523112 -0.21119101 -1.44534654]\n",
      " [-0.59826434 -1.46586797 -1.09721527]\n",
      " [ 1.6897381  -1.28373744 -1.04327944]\n",
      " [ 1.41048447  1.39425586 -1.21489345]\n",
      " [-0.8446646   1.77200806  0.7807323 ]\n",
      " [-1.21543833  0.24076252  0.26098702]\n",
      " [ 0.95405731  0.98277578  0.10898604]\n",
      " [ 0.65485699 -0.05604278  0.08937301]\n",
      " [ 0.35565668  0.69271605  0.43750428]\n",
      " [ 1.7237648   0.30821827 -1.37179768]\n",
      " [ 0.70648372 -0.99367772 -0.16559637]\n",
      " [-1.42663856  0.17330677  0.66305412]\n",
      " [ 0.33336332 -0.04255163  0.08446975]\n",
      " [-0.66866442 -0.89249409  0.29040656]\n",
      " [ 1.09368413  1.23910763 -0.5529537 ]\n",
      " [ 0.94467064 -0.49450516  0.98666911]\n",
      " [-0.9361847  -0.77107374  0.34434239]\n",
      " [ 0.62317696 -1.35119319  0.23647073]\n",
      " [-0.54311762 -0.91273082 -1.28353905]\n",
      " [ 0.8179505   1.25259878  0.4816336 ]\n",
      " [ 0.42136341  1.55614966  1.41815575]\n",
      " [ 1.36120441  0.3824196  -0.6804384 ]\n",
      " [ 0.61261695  1.77200806  1.4818981 ]\n",
      " [-1.63549211  0.33520057  0.56989223]\n",
      " [-0.12306383 -0.26515561 -0.64611559]\n",
      " [ 0.75224376  1.78549921  0.38847171]\n",
      " [ 0.75107043  0.42963862 -1.00405338]\n",
      " [-1.09341154 -1.42539452 -0.41075924]\n",
      " [ 1.34477773  1.32005453  1.22202546]\n",
      " [ 1.08664412 -0.51474189 -0.12146706]\n",
      " [-0.51613092  0.4363842  -1.0481827 ]\n",
      " [-0.1829039   1.32680011 -0.04301494]\n",
      " [-0.91154467 -0.93296754 -1.415927  ]\n",
      " [-1.35154514  0.09910544 -1.35218465]\n",
      " [-0.08669046 -0.58219764 -0.95992407]\n",
      " [ 1.06435076  0.29472712 -0.92069801]\n",
      " [ 0.82264384  1.40100143 -0.12637031]\n",
      " [ 0.61496362  0.50383995  0.43750428]\n",
      " [-0.43282416 -0.59568879  0.09427627]\n",
      " [-1.40669187  0.66573375 -0.51372765]\n",
      " [-0.20285059 -1.17580824  0.07466324]\n",
      " [ 0.78275046  0.09910544 -0.8177296 ]\n",
      " [-1.52285199  1.38751028  2.92345576]\n",
      " [-1.39847853 -1.45237682 -0.44508204]\n",
      " [-0.30727736  0.36218287 -0.76379377]\n",
      " [-1.65778547  0.45662092 -0.99915012]\n",
      " [-0.36007742 -1.04089674 -0.32740387]\n",
      " [-0.82471792  0.24076252 -0.36662993]\n",
      " [ 1.09251079 -1.28373744  0.34924565]\n",
      " [-0.8376246  -0.19095428  0.13350233]\n",
      " [-0.91858468  1.44147488  0.2855033 ]\n",
      " [ 0.7839238   1.34029126  0.19724467]\n",
      " [ 0.54573688 -0.31912021  1.76138377]\n",
      " [-0.82589125  0.29472712 -0.67553514]\n",
      " [-0.42226415  1.17839745  1.63880233]\n",
      " [-0.6850911   0.15981562  2.13893458]\n",
      " [-0.43282416  1.66407886  1.06021797]\n",
      " [-0.14535719 -1.22977284 -1.00405338]\n",
      " [-1.38557185 -1.4591224   0.15801861]\n",
      " [ 0.83320385  0.69946162  1.43286552]\n",
      " [ 1.22275093  0.90182888  2.08499875]\n",
      " [-0.46098419 -0.61592551 -0.92560126]\n",
      " [ 0.19490984  0.5712957   1.13376683]\n",
      " [ 0.5973636  -1.32421089 -1.17076413]\n",
      " [ 0.44835011 -0.14373526 -0.3813397 ]\n",
      " [ 1.67800475  1.29307223  1.05041145]\n",
      " [-0.13479718  1.25259878  0.79053881]\n",
      " [ 0.88835058 -1.27024629  0.98176585]\n",
      " [ 1.56653796 -0.87900294 -0.41075924]\n",
      " [ 0.48355014 -0.40006711 -0.58237325]\n",
      " [ 1.07373744  0.75342622 -1.20018368]\n",
      " [-0.10311715  1.56964081  1.43286552]\n",
      " [-1.42781189 -0.81829276 -0.00378888]\n",
      " [-0.66045107 -1.5400693  -0.32250061]\n",
      " [-1.56743871 -1.53332372 -0.20482243]\n",
      " [ 1.27555099  0.25425367 -1.19037716]\n",
      " [ 0.92824395 -1.00716887  1.31028409]\n",
      " [ 1.11480415  1.0030125  -0.32250061]\n",
      " [ 0.34040333 -0.52148746 -1.34237814]\n",
      " [ 0.73816375 -0.17071756 -0.93540778]\n",
      " [-0.80359789  1.59662311  0.23156747]\n",
      " [-0.83997127  0.80064525  1.12396031]\n",
      " [-0.0878638  -0.59568879 -0.20482243]\n",
      " [-0.82471792 -1.50634142 -0.73437423]\n",
      " [-0.24626397  0.92881118  2.42332351]\n",
      " [-1.49351863 -0.48101401 -0.36662993]\n",
      " [-0.06322377  0.2475081   0.80524858]\n",
      " [-1.50055864 -0.09651623  1.01118539]\n",
      " [ 0.90712393 -1.39841222 -0.69514817]\n",
      " [-0.27677067  0.77366295 -0.8520524 ]\n",
      " [ 0.97165733  0.61851472  2.17816064]\n",
      " [-0.69799778 -0.76432816 -0.19011266]\n",
      " [-1.62962544  1.06372268  1.02099191]\n",
      " [-0.7801312  -1.56030602 -1.00895664]\n",
      " [ 0.86371055  1.74502576 -1.30315208]\n",
      " [-1.02183813 -0.75083701  0.65324761]\n",
      " [-1.7129322   1.1109417  -1.03347293]\n",
      " [ 1.39053778 -1.36468434  0.64834435]\n",
      " [-1.62258543  0.2744904  -1.35708791]\n",
      " [ 0.85784388  0.69946162  0.75131275]\n",
      " [-1.28818508  1.04348595  1.75648051]\n",
      " [-1.15442493  1.61011426 -1.04327944]\n",
      " [-1.42077188  1.07046825 -1.00405338]\n",
      " [ 1.49027122  0.38916517  1.46718833]\n",
      " [-1.21661167  0.18679792 -0.45488856]\n",
      " [ 0.44835011  1.40100143 -1.37670094]\n",
      " [-0.85991795 -0.41355826 -0.82753612]\n",
      " [ 0.55160355  0.82762755  2.24680625]\n",
      " [ 0.86605722  0.6792249   0.39827822]\n",
      " [-0.49383756 -1.17580824  0.22666422]\n",
      " [-0.59239767 -0.56196091  0.4473108 ]\n",
      " [-0.07495712 -1.4321401  -1.01876315]\n",
      " [ 1.0960308  -1.06787904 -1.03347293]\n",
      " [ 1.13240417  1.74502576  0.71208669]\n",
      " [-1.2752784   1.15816073 -0.87656869]\n",
      " [-1.19666498  0.18005234 -0.4499853 ]\n",
      " [ 1.57240464 -0.62267109  0.35414891]\n",
      " [-0.30141069 -0.99367772  0.92783002]\n",
      " [ 0.5973636   0.01141297 -0.76379377]\n",
      " [ 0.2887766   1.11768728  0.38847171]\n",
      " [ 0.48237681 -0.13698968 -0.99424687]\n",
      " [-1.67303882 -0.77781931 -1.18057065]\n",
      " [-0.61938436  1.37401913  1.01608865]\n",
      " [ 0.03650967 -1.47261355 -0.26856478]\n",
      " [-1.58386539  0.92881118  0.75621601]\n",
      " [-0.17586389 -0.31912021  0.23647073]\n",
      " [ 0.30285662 -0.33935694  0.04524369]\n",
      " [-0.7155978   0.85460985  0.95724956]\n",
      " [ 0.48941682 -0.33935694 -0.20482243]\n",
      " [ 0.19725651  0.9220656  -1.09721527]\n",
      " [-0.34599741 -0.56870649 -1.19528042]\n",
      " [ 1.03032406 -1.33095647  2.69790592]\n",
      " [-1.51111865  0.9760302  -0.40095273]\n",
      " [ 0.70531038 -1.20953612 -0.50882439]\n",
      " [ 0.80621716  0.03164969  1.36421992]\n",
      " [ 1.61464468 -0.84527507 -1.14624784]\n",
      " [-1.13447825 -0.77781931 -0.55785696]\n",
      " [ 0.20898985 -0.15048083  0.86408767]\n",
      " [-1.49117196 -0.20444543 -0.62650256]\n",
      " [ 0.2547499  -1.08137019 -0.83243937]\n",
      " [ 0.88835058 -1.33095647 -0.8177296 ]\n",
      " [ 1.52781792  1.73828018  0.58950526]\n",
      " [ 1.19341757  0.47685765 -0.46469507]\n",
      " [ 0.27586992 -1.03415117  0.26589027]\n",
      " [ 1.52547125 -1.4051578  -0.29798432]\n",
      " [ 0.22189653 -0.88574852 -0.59708302]\n",
      " [ 0.11629642 -1.38492107 -1.05308596]\n",
      " [ 0.84259053 -1.19604497 -0.1165638 ]\n",
      " [-1.0617315  -1.17580824 -0.00378888]\n",
      " [ 1.65336472  1.34029126  2.06048247]\n",
      " [ 1.25677764 -0.12349853  0.01092089]\n",
      " [ 0.68419036  1.48194833 -0.49901787]\n",
      " [-0.08434379 -1.41864895 -0.15578986]\n",
      " [ 0.52109685  0.37567402 -0.56766348]\n",
      " [ 1.63459137 -0.62267109 -1.27863579]\n",
      " [-1.50173197 -0.74409144 -0.31269409]\n",
      " [-1.25767838  1.21212533 -1.17566739]\n",
      " [-0.83527793 -0.83178391 -1.16586087]\n",
      " [-1.51933199 -1.28373744  0.08937301]\n",
      " [ 0.23597655  1.2728355  -1.28353905]\n",
      " [ 0.03533633  0.8411187  -1.16586087]\n",
      " [-1.27293173 -1.31071974 -0.7834068 ]\n",
      " [-0.61586436 -1.22977284 -1.06289247]\n",
      " [ 0.35565668 -0.93296754 -1.14624784]\n",
      " [ 1.60643134  1.2728355   1.78590005]\n",
      " [ 1.00216403 -0.98018657 -1.03347293]]\n",
      "(198, 3)\n"
     ]
    }
   ],
   "source": [
    "print(x)\n",
    "print(x.shape)"
   ]
  },
  {
   "cell_type": "code",
   "execution_count": 72,
   "id": "c6f2c1e3",
   "metadata": {},
   "outputs": [
    {
     "name": "stdout",
     "output_type": "stream",
     "text": [
      "0      22.1\n",
      "1      10.4\n",
      "2       9.3\n",
      "3      18.5\n",
      "4      12.9\n",
      "       ... \n",
      "195     7.6\n",
      "196     9.7\n",
      "197    12.8\n",
      "198    25.5\n",
      "199    13.4\n",
      "Name: sales, Length: 198, dtype: float64\n",
      "(198,)\n"
     ]
    }
   ],
   "source": [
    "print(y)\n",
    "print(y.shape)"
   ]
  },
  {
   "cell_type": "code",
   "execution_count": 73,
   "id": "86d79539",
   "metadata": {},
   "outputs": [],
   "source": [
    "x_train,x_test,y_train,y_test=train_test_split(x,y,test_size=.18,random_state=35)"
   ]
  },
  {
   "cell_type": "code",
   "execution_count": 74,
   "id": "220af4b9",
   "metadata": {},
   "outputs": [
    {
     "name": "stdout",
     "output_type": "stream",
     "text": [
      "(162, 3)\n",
      "(162,)\n",
      "(36, 3)\n",
      "(36,)\n"
     ]
    }
   ],
   "source": [
    "print(x_train.shape)\n",
    "\n",
    "print(y_train.shape)\n",
    "\n",
    "print(x_test.shape)\n",
    "\n",
    "print(y_test.shape)"
   ]
  },
  {
   "cell_type": "markdown",
   "id": "8eac167f",
   "metadata": {},
   "source": [
    "# LINEAR REGRESSION"
   ]
  },
  {
   "cell_type": "code",
   "execution_count": 75,
   "id": "f07ca7e5",
   "metadata": {},
   "outputs": [
    {
     "name": "stdout",
     "output_type": "stream",
     "text": [
      "[ 7.79075341 12.05627522 16.35951942  8.78329451 14.62176054  9.64527503\n",
      " 12.54220961  5.28677981 17.66149422 12.61412394 14.38816237  8.9595701\n",
      "  9.19215783 14.7039891  14.19587595  7.03799602 15.68567009 16.97629213\n",
      " 12.33438615  9.98863614 17.27344196 13.30247995 18.44479264 11.90693489\n",
      " 17.01721885 16.49467914  7.10253713  9.93956631  9.12927906 21.64497489\n",
      " 10.8398177  21.07476273 12.99715997 14.93354333 12.07343245  6.58282907]\n"
     ]
    }
   ],
   "source": [
    "li=LinearRegression()\n",
    "li.fit(x_train,y_train)\n",
    "lipred=li.predict(x_test)\n",
    "print(lipred)\n"
   ]
  },
  {
   "cell_type": "code",
   "execution_count": 76,
   "id": "33ee4841",
   "metadata": {},
   "outputs": [
    {
     "name": "stdout",
     "output_type": "stream",
     "text": [
      "[3.8679384  2.79410901 0.03372666]\n",
      "13.971119553808045\n"
     ]
    }
   ],
   "source": [
    "print(li.coef_)\n",
    "print(li.intercept_)"
   ]
  },
  {
   "cell_type": "code",
   "execution_count": 77,
   "id": "67b31173",
   "metadata": {},
   "outputs": [
    {
     "name": "stdout",
     "output_type": "stream",
     "text": [
      "Mean absolute error: 0.987098511800775\n",
      "Mean squared error: 1.5914311846545517\n",
      "Root mean squraed Error: 1.2615193952748216\n",
      "0.9132902404583374\n"
     ]
    }
   ],
   "source": [
    "print('Mean absolute error:',mean_absolute_error(y_test,lipred))\n",
    "print('Mean squared error:',mean_squared_error(y_test,lipred))\n",
    "print('Root mean squraed Error:',np.sqrt(mean_squared_error(y_test,lipred)))\n",
    "print(r2_score(y_test,lipred))"
   ]
  },
  {
   "cell_type": "markdown",
   "id": "e0f5369e",
   "metadata": {},
   "source": [
    "# RANDOM FOREST REGRESSOR"
   ]
  },
  {
   "cell_type": "code",
   "execution_count": 78,
   "id": "06a5c518",
   "metadata": {},
   "outputs": [
    {
     "name": "stdout",
     "output_type": "stream",
     "text": [
      "[ 9.845  8.058 17.335 10.613 12.224 10.64  11.35   5.009 18.642 11.366\n",
      " 14.788  7.947 11.066 15.011 14.236  9.335 15.424 17.782 13.423 10.707\n",
      " 18.197 11.859 18.483 12.049 18.304 15.181  9.3   10.94  10.223 23.496\n",
      "  7.679 22.265 13.552 16.548 12.578  6.395]\n"
     ]
    }
   ],
   "source": [
    "rf=RandomForestRegressor()\n",
    "rf.fit(x_train,y_train)\n",
    "rfpred=rf.predict(x_test)\n",
    "print(rfpred)"
   ]
  },
  {
   "cell_type": "code",
   "execution_count": 79,
   "id": "449792d6",
   "metadata": {},
   "outputs": [
    {
     "name": "stdout",
     "output_type": "stream",
     "text": [
      "Mean absolute error: 0.5237222222222201\n",
      "Mean squared error: 0.4051326111111089\n",
      "Root mean squraed Error: 0.6365002836693074\n",
      "0.9779261889356808\n"
     ]
    }
   ],
   "source": [
    "print('Mean absolute error:',mean_absolute_error(y_test,rfpred))\n",
    "print('Mean squared error:',mean_squared_error(y_test,rfpred))\n",
    "print('Root mean squraed Error:',np.sqrt(mean_squared_error(y_test,rfpred)))\n",
    "print(r2_score(y_test,rfpred))"
   ]
  },
  {
   "cell_type": "markdown",
   "id": "00b451e5",
   "metadata": {},
   "source": [
    "# KNEIGHBORS REGRRESSOR"
   ]
  },
  {
   "cell_type": "code",
   "execution_count": 80,
   "id": "c700e6aa",
   "metadata": {},
   "outputs": [
    {
     "name": "stdout",
     "output_type": "stream",
     "text": [
      "[ 9.9  10.48 17.92 10.92 12.4  10.12 11.96  7.66 20.64 11.98 14.46  8.24\n",
      " 10.8  15.7  14.96  8.9  16.08 16.7  12.5  10.5  18.24 11.82 18.62 11.7\n",
      " 16.42 16.14  9.68 10.88 10.42 22.4   8.52 21.66 11.28 15.06 12.92  7.82]\n"
     ]
    }
   ],
   "source": [
    "knn=KNeighborsRegressor()\n",
    "knn.fit(x_train,y_train)\n",
    "knnpred=knn.predict(x_test)\n",
    "print(knnpred)"
   ]
  },
  {
   "cell_type": "code",
   "execution_count": 81,
   "id": "deb76a28",
   "metadata": {},
   "outputs": [
    {
     "name": "stdout",
     "output_type": "stream",
     "text": [
      "Mean absolute error: 0.6838888888888892\n",
      "Mean squared error: 1.170233333333334\n",
      "Root mean squraed Error: 1.0817732356336673\n",
      "0.936239372509847\n"
     ]
    }
   ],
   "source": [
    "print('Mean absolute error:',mean_absolute_error(y_test,knnpred))\n",
    "print('Mean squared error:',mean_squared_error(y_test,knnpred))\n",
    "print('Root mean squraed Error:',np.sqrt(mean_squared_error(y_test,knnpred)))\n",
    "print(r2_score(y_test,knnpred))"
   ]
  },
  {
   "cell_type": "markdown",
   "id": "e92631ad",
   "metadata": {},
   "source": [
    "# DECISION TREE REGRESSOR"
   ]
  },
  {
   "cell_type": "code",
   "execution_count": 82,
   "id": "75c74dcd",
   "metadata": {},
   "outputs": [
    {
     "name": "stdout",
     "output_type": "stream",
     "text": [
      "[ 8.4  9.3 17.3  9.6 12.7 10.3 11.5  5.7 19.2 11.9 15.5  7.2 10.9 15.6\n",
      " 12.9  8.7 15.3 19.  13.4 10.5 17.1 10.6 19.4 11.5 18.4 14.8  8.8  9.7\n",
      "  9.9 24.2  9.5 24.2 15.3 17.3 11.9  5.5]\n"
     ]
    }
   ],
   "source": [
    "dtr=DecisionTreeRegressor()\n",
    "dtr.fit(x_train,y_train)\n",
    "dtrpred=dtr.predict(x_test)\n",
    "print(dtrpred)"
   ]
  },
  {
   "cell_type": "code",
   "execution_count": 83,
   "id": "195952df",
   "metadata": {},
   "outputs": [
    {
     "name": "stdout",
     "output_type": "stream",
     "text": [
      "Mean absolute error: 0.9583333333333331\n",
      "Mean squared error: 1.4230555555555555\n",
      "Root mean squraed Error: 1.1929189224568262\n",
      "0.9224642534176344\n"
     ]
    }
   ],
   "source": [
    "print('Mean absolute error:',mean_absolute_error(y_test,dtrpred))\n",
    "print('Mean squared error:',mean_squared_error(y_test,dtrpred))\n",
    "print('Root mean squraed Error:',np.sqrt(mean_squared_error(y_test,dtrpred)))\n",
    "print(r2_score(y_test,dtrpred))"
   ]
  },
  {
   "cell_type": "markdown",
   "id": "81e4a84b",
   "metadata": {},
   "source": [
    "# SVR"
   ]
  },
  {
   "cell_type": "code",
   "execution_count": 84,
   "id": "7287622b",
   "metadata": {},
   "outputs": [
    {
     "name": "stdout",
     "output_type": "stream",
     "text": [
      "[ 9.84671416 11.99650435 17.41180117 10.21280692 12.46421293 10.55011981\n",
      " 11.90265165  8.08157777 18.80566355 11.64843974 14.61912116  9.15830521\n",
      " 10.25950501 14.62438313 14.22457531  8.67863664 15.66848008 17.89211547\n",
      " 12.21121569 10.47392162 18.03875383 12.00870925 19.76266696 11.76981372\n",
      " 17.90142184 15.52285102  9.12637157 10.27767166  9.99525632 21.87287666\n",
      "  9.69721057 21.67834151 12.52258051 15.72490445 12.72879555  9.15473771]\n"
     ]
    }
   ],
   "source": [
    "svr=SVR()\n",
    "svr.fit(x_train,y_train)\n",
    "svrpred=svr.predict(x_test)\n",
    "print(svrpred)"
   ]
  },
  {
   "cell_type": "code",
   "execution_count": 85,
   "id": "72fb31e7",
   "metadata": {},
   "outputs": [
    {
     "name": "stdout",
     "output_type": "stream",
     "text": [
      "Mean absolute error: 0.7067588689115603\n",
      "Mean squared error: 1.600892008945938\n",
      "Root mean squraed Error: 1.2652636124325785\n",
      "0.9127747636929691\n"
     ]
    }
   ],
   "source": [
    "print('Mean absolute error:',mean_absolute_error(y_test,svrpred))\n",
    "print('Mean squared error:',mean_squared_error(y_test,svrpred))\n",
    "print('Root mean squraed Error:',np.sqrt(mean_squared_error(y_test,svrpred)))\n",
    "print(r2_score(y_test,svrpred))"
   ]
  },
  {
   "cell_type": "markdown",
   "id": "fb563b7e",
   "metadata": {},
   "source": [
    "# CROSS VAL SCORE"
   ]
  },
  {
   "cell_type": "code",
   "execution_count": 86,
   "id": "2e45f945",
   "metadata": {},
   "outputs": [],
   "source": [
    "from sklearn.model_selection import cross_val_score"
   ]
  },
  {
   "cell_type": "markdown",
   "id": "3df7090d",
   "metadata": {},
   "source": [
    "LINEAR REGRESSION"
   ]
  },
  {
   "cell_type": "code",
   "execution_count": 87,
   "id": "a68fc5dc",
   "metadata": {},
   "outputs": [
    {
     "name": "stdout",
     "output_type": "stream",
     "text": [
      "[0.87988273 0.9176965  0.92510819 0.80845813 0.89565733]\n",
      "0.885360575668391\n",
      "0.041654533995775095\n"
     ]
    }
   ],
   "source": [
    "score=cross_val_score(li,x,y,cv=5)\n",
    "print(score)\n",
    "print(score.mean())\n",
    "print(score.std())"
   ]
  },
  {
   "cell_type": "markdown",
   "id": "4da986f9",
   "metadata": {},
   "source": [
    "RANDOM FORESET REGRESSOR"
   ]
  },
  {
   "cell_type": "code",
   "execution_count": 88,
   "id": "c336cc39",
   "metadata": {},
   "outputs": [
    {
     "name": "stdout",
     "output_type": "stream",
     "text": [
      "[0.97978201 0.98181508 0.97646723 0.95953889 0.98072508]\n",
      "0.9756656585024496\n",
      "0.008259208634678114\n"
     ]
    }
   ],
   "source": [
    "score=cross_val_score(rf,x,y,cv=5)\n",
    "print(score)\n",
    "print(score.mean())\n",
    "print(score.std())"
   ]
  },
  {
   "cell_type": "markdown",
   "id": "0a7ba528",
   "metadata": {},
   "source": [
    "KNEIGHBORS REGRRESSOR"
   ]
  },
  {
   "cell_type": "code",
   "execution_count": 89,
   "id": "547f4954",
   "metadata": {},
   "outputs": [
    {
     "name": "stdout",
     "output_type": "stream",
     "text": [
      "[0.94095681 0.95204588 0.9649102  0.87645718 0.94941033]\n",
      "0.9367560788064591\n",
      "0.031113231223219413\n"
     ]
    }
   ],
   "source": [
    "score=cross_val_score(knn,x,y,cv=5)\n",
    "print(score)\n",
    "print(score.mean())\n",
    "print(score.std())"
   ]
  },
  {
   "cell_type": "markdown",
   "id": "14dbe0da",
   "metadata": {},
   "source": [
    "DECISION TREE REGRESSOR"
   ]
  },
  {
   "cell_type": "code",
   "execution_count": 90,
   "id": "a956c5cd",
   "metadata": {},
   "outputs": [
    {
     "name": "stdout",
     "output_type": "stream",
     "text": [
      "[0.95895766 0.95326936 0.94930107 0.94953768 0.96816045]\n",
      "0.9558452436103495\n",
      "0.00707952290543097\n"
     ]
    }
   ],
   "source": [
    "score=cross_val_score(dtr,x,y,cv=5)\n",
    "print(score)\n",
    "print(score.mean())\n",
    "print(score.std())"
   ]
  },
  {
   "cell_type": "markdown",
   "id": "2ae013b4",
   "metadata": {},
   "source": [
    "SVR"
   ]
  },
  {
   "cell_type": "code",
   "execution_count": 91,
   "id": "b131657a",
   "metadata": {},
   "outputs": [
    {
     "name": "stdout",
     "output_type": "stream",
     "text": [
      "[0.900667   0.94431933 0.96318724 0.8275857  0.91691826]\n",
      "0.9105355050541174\n",
      "0.04675970102741745\n"
     ]
    }
   ],
   "source": [
    "score=cross_val_score(svr,x,y,cv=5)\n",
    "print(score)\n",
    "print(score.mean())\n",
    "print(score.std())"
   ]
  },
  {
   "cell_type": "markdown",
   "id": "b5fe10d6",
   "metadata": {},
   "source": [
    "# Hyper Parameter Tuning\n"
   ]
  },
  {
   "cell_type": "code",
   "execution_count": 92,
   "id": "1e7b95c9",
   "metadata": {},
   "outputs": [],
   "source": [
    "from sklearn.model_selection import GridSearchCV"
   ]
  },
  {
   "cell_type": "markdown",
   "id": "42f17810",
   "metadata": {},
   "source": [
    "FOR RANDOM FORESET REGRESSOR"
   ]
  },
  {
   "cell_type": "code",
   "execution_count": 93,
   "id": "08c01af8",
   "metadata": {},
   "outputs": [],
   "source": [
    "p1={\"n_estimators\":[20,40,60,80,100],\"criterion\":[\"squared_error\",\"absolute_error\",\"poisson\"],\"max_features\":[\"sqrt\",\"log2\",None]}"
   ]
  },
  {
   "cell_type": "code",
   "execution_count": 94,
   "id": "6a14ca4b",
   "metadata": {},
   "outputs": [
    {
     "name": "stdout",
     "output_type": "stream",
     "text": [
      "{'criterion': 'poisson', 'max_features': None, 'n_estimators': 100}\n",
      "0.7282172795466743\n"
     ]
    }
   ],
   "source": [
    "gd=GridSearchCV(estimator=rf,param_grid=p1,cv=5)\n",
    "gd.fit(x,y)\n",
    "print(gd.best_params_)\n",
    "print(gd.best_score_)"
   ]
  },
  {
   "cell_type": "code",
   "execution_count": 101,
   "id": "803b2c3e",
   "metadata": {},
   "outputs": [
    {
     "name": "stdout",
     "output_type": "stream",
     "text": [
      "Mean absolute error: 1.54688888888889\n",
      "Mean squared error: 3.9941214444444504\n",
      "Root mean squraed Error: 1.998529820754359\n",
      "0.7823787083177252\n"
     ]
    }
   ],
   "source": [
    "rf=RandomForestRegressor(criterion=\"poisson\",max_features=None,n_estimators=100)\n",
    "rf.fit(x_train,y_train)\n",
    "rfpred=rf.predict(x_test)\n",
    "\n",
    "print('Mean absolute error:',mean_absolute_error(y_test,rfpred))\n",
    "print('Mean squared error:',mean_squared_error(y_test,rfpred))\n",
    "print('Root mean squraed Error:',np.sqrt(mean_squared_error(y_test,rfpred)))\n",
    "print(r2_score(y_test,rfpred))"
   ]
  },
  {
   "cell_type": "markdown",
   "id": "d55a0d81",
   "metadata": {},
   "source": [
    "FOR KNEIGHBORS REGRRESSOR"
   ]
  },
  {
   "cell_type": "code",
   "execution_count": 96,
   "id": "c672d788",
   "metadata": {},
   "outputs": [],
   "source": [
    "p2={\"n_neighbors\":[5,7,9,11],\"weights\":[\"uniform\",\"distance\"],\"algorithm\":[\"auto\",\"ball_tree\",\"kd_tree\",\"brute\"],\"leaf_size\":[30,50,70]}"
   ]
  },
  {
   "cell_type": "code",
   "execution_count": 97,
   "id": "9a20b434",
   "metadata": {},
   "outputs": [
    {
     "name": "stdout",
     "output_type": "stream",
     "text": [
      "{'algorithm': 'auto', 'leaf_size': 30, 'n_neighbors': 5, 'weights': 'distance'}\n",
      "0.9443995929488945\n"
     ]
    }
   ],
   "source": [
    "gd=GridSearchCV(estimator=knn,param_grid=p2,cv=5)\n",
    "gd.fit(x,y)\n",
    "print(gd.best_params_)\n",
    "print(gd.best_score_)"
   ]
  },
  {
   "cell_type": "code",
   "execution_count": 103,
   "id": "9bc30b13",
   "metadata": {},
   "outputs": [
    {
     "name": "stdout",
     "output_type": "stream",
     "text": [
      "0.6328914676626043\n",
      "1.0267299773559235\n",
      "1.0132768512879013\n",
      "0.9440582097993299\n"
     ]
    }
   ],
   "source": [
    "knn=KNeighborsRegressor(algorithm=\"auto\",leaf_size=30,n_neighbors=5,weights=\"distance\")\n",
    "knn.fit(x_train,y_train)\n",
    "knnpred=knn.predict(x_test)\n",
    "\n",
    "print(mean_absolute_error(y_test,knnpred))\n",
    "print(mean_squared_error(y_test,knnpred))\n",
    "print(np.sqrt(mean_squared_error(y_test,knnpred)))\n",
    "print(r2_score(y_test,knnpred))"
   ]
  },
  {
   "cell_type": "markdown",
   "id": "82148f93",
   "metadata": {},
   "source": [
    "For DECISION TREE REGRESSOR"
   ]
  },
  {
   "cell_type": "code",
   "execution_count": 104,
   "id": "bfa97813",
   "metadata": {},
   "outputs": [],
   "source": [
    "p3={\"criterion\":[\"squared_error\",\"friedman_mse\",\"absolute_error\",\"poisson\"],\"splitter\":[\"best\",\"random\"],\"max_features\":[\"auto\",\"sqrt\",\"log2\"]}"
   ]
  },
  {
   "cell_type": "code",
   "execution_count": 105,
   "id": "8d7dd8fe",
   "metadata": {},
   "outputs": [
    {
     "name": "stdout",
     "output_type": "stream",
     "text": [
      "{'criterion': 'friedman_mse', 'max_features': 'auto', 'splitter': 'best'}\n",
      "0.9548073115040003\n"
     ]
    }
   ],
   "source": [
    "gd=GridSearchCV(estimator=dtr,param_grid=p3,cv=5)\n",
    "gd.fit(x,y)\n",
    "print(gd.best_params_)\n",
    "print(gd.best_score_)"
   ]
  },
  {
   "cell_type": "code",
   "execution_count": 109,
   "id": "5ad4607c",
   "metadata": {},
   "outputs": [
    {
     "name": "stdout",
     "output_type": "stream",
     "text": [
      "0.9583333333333331\n",
      "1.4230555555555555\n",
      "1.1929189224568262\n",
      "0.9224642534176344\n"
     ]
    }
   ],
   "source": [
    "dtr=DecisionTreeRegressor(criterion=\"friedman_mse\",max_features=\"auto\",splitter=\"best\")\n",
    "dtr.fit(x_train,y_train)\n",
    "preddtr=dtr.predict(x_test)\n",
    "\n",
    "print(mean_absolute_error(y_test,dtrpred))\n",
    "print(mean_squared_error(y_test,dtrpred))\n",
    "print(np.sqrt(mean_squared_error(y_test,dtrpred)))\n",
    "print(r2_score(y_test,dtrpred))"
   ]
  },
  {
   "cell_type": "markdown",
   "id": "206238e8",
   "metadata": {},
   "source": [
    "FOR SVR"
   ]
  },
  {
   "cell_type": "code",
   "execution_count": 114,
   "id": "2ad5eda1",
   "metadata": {},
   "outputs": [],
   "source": [
    "p4={\"kernel\":[\"linear\",\"poly\",\"rbf\",\"sigmoid\"],\"gamma\":[\"scale\",\"auto\"]}"
   ]
  },
  {
   "cell_type": "code",
   "execution_count": 115,
   "id": "6ad4fe1e",
   "metadata": {},
   "outputs": [
    {
     "name": "stdout",
     "output_type": "stream",
     "text": [
      "{'gamma': 'auto', 'kernel': 'rbf'}\n",
      "0.9105690379041189\n"
     ]
    }
   ],
   "source": [
    "gd=GridSearchCV(estimator=svr,param_grid=p4,cv=5)\n",
    "gd.fit(x,y)\n",
    "print(gd.best_params_)\n",
    "print(gd.best_score_)"
   ]
  },
  {
   "cell_type": "code",
   "execution_count": 118,
   "id": "e2ff4efa",
   "metadata": {},
   "outputs": [
    {
     "name": "stdout",
     "output_type": "stream",
     "text": [
      "0.7067588689115603\n",
      "1.600892008945938\n",
      "1.2652636124325785\n",
      "0.9127747636929691\n"
     ]
    }
   ],
   "source": [
    "svr=SVR(kernel=\"rbf\",gamma=\"auto\")\n",
    "svr.fit(x_train,y_train)\n",
    "predsvr=svr.predict(x_test)\n",
    "\n",
    "print(mean_absolute_error(y_test,svrpred))\n",
    "print(mean_squared_error(y_test,svrpred))\n",
    "print(np.sqrt(mean_squared_error(y_test,svrpred)))\n",
    "print(r2_score(y_test,svrpred))"
   ]
  },
  {
   "cell_type": "markdown",
   "id": "7d13afe0",
   "metadata": {},
   "source": [
    "# Saving the best model"
   ]
  },
  {
   "cell_type": "code",
   "execution_count": 119,
   "id": "9eed4c94",
   "metadata": {},
   "outputs": [],
   "source": [
    "import pickle"
   ]
  },
  {
   "cell_type": "code",
   "execution_count": 121,
   "id": "a47cc901",
   "metadata": {},
   "outputs": [],
   "source": [
    "file=\"sales_prediction_of_Advertising\"\n",
    "pickle.dump(knn,open(file,\"wb\"))"
   ]
  },
  {
   "cell_type": "markdown",
   "id": "79a3a688",
   "metadata": {},
   "source": [
    "# Loading the file"
   ]
  },
  {
   "cell_type": "code",
   "execution_count": 122,
   "id": "d135a209",
   "metadata": {},
   "outputs": [],
   "source": [
    "load_model=pickle.load(open(file,\"rb\"))"
   ]
  },
  {
   "cell_type": "code",
   "execution_count": 123,
   "id": "c62a52f3",
   "metadata": {},
   "outputs": [
    {
     "data": {
      "text/plain": [
       "array([ 9.95859794,  9.97353063, 17.73531447, 10.78030769, 12.41521384,\n",
       "       10.41503059, 11.94872323,  7.53916193, 20.45302824, 12.00437418,\n",
       "       14.55009566,  7.64460397, 10.67756732, 15.65293412, 14.98570987,\n",
       "        8.78859595, 16.32842533, 16.70882324, 12.52432933, 10.46067943,\n",
       "       18.02487921, 11.62826743, 18.85451212, 11.6963971 , 16.52472361,\n",
       "       16.00125907,  9.58225493, 10.88166314, 10.54028274, 22.41772939,\n",
       "        8.74486519, 21.62254477, 12.0701792 , 14.92374283, 12.86023883,\n",
       "        7.7615817 ])"
      ]
     },
     "execution_count": 123,
     "metadata": {},
     "output_type": "execute_result"
    }
   ],
   "source": [
    "load_model.predict(x_test)"
   ]
  },
  {
   "cell_type": "code",
   "execution_count": null,
   "id": "53c3190c",
   "metadata": {},
   "outputs": [],
   "source": []
  }
 ],
 "metadata": {
  "kernelspec": {
   "display_name": "Python 3 (ipykernel)",
   "language": "python",
   "name": "python3"
  },
  "language_info": {
   "codemirror_mode": {
    "name": "ipython",
    "version": 3
   },
   "file_extension": ".py",
   "mimetype": "text/x-python",
   "name": "python",
   "nbconvert_exporter": "python",
   "pygments_lexer": "ipython3",
   "version": "3.9.7"
  }
 },
 "nbformat": 4,
 "nbformat_minor": 5
}
